{
  "nbformat": 4,
  "nbformat_minor": 0,
  "metadata": {
    "colab": {
      "provenance": [],
      "include_colab_link": true
    },
    "kernelspec": {
      "name": "python3",
      "display_name": "Python 3"
    },
    "language_info": {
      "name": "python"
    }
  },
  "cells": [
    {
      "cell_type": "markdown",
      "metadata": {
        "id": "view-in-github",
        "colab_type": "text"
      },
      "source": [
        "<a href=\"https://colab.research.google.com/github/sunilkm11/SUNIL-K-M-11/blob/master/Copy_of_Capstone_Project1_Introduction_to_Computer_Programming.ipynb\" target=\"_parent\"><img src=\"https://colab.research.google.com/assets/colab-badge.svg\" alt=\"Open In Colab\"/></a>"
      ]
    },
    {
      "cell_type": "markdown",
      "source": [
        "# **Guidelines**\n"
      ],
      "metadata": {
        "id": "HlOAX_1v1ko1"
      }
    },
    {
      "cell_type": "markdown",
      "source": [
        "\n",
        "**1. About the Project:**\n",
        "\n",
        "The Introduction to Computer Programming project is designed to evaluate your understanding and practical application of fundamental programming concepts using Python. This assessment encompasses various topics, including data types, indexing, slicing, operators, in-built functions, statements, conditionals, loops, object-oriented programming, and exception handling. In addition, you will showcase your ability to create custom functions and tackle advanced looping concepts.\n",
        "\n",
        "**2. Skills Required:**\n",
        "\n",
        "  To successfully complete this project assessment, you should possess the following skills and knowledge:\n",
        "- Proficiency in Python programming language\n",
        "- Understanding of data types, indexing, and slicing in Python\n",
        "- Familiarity with operators, in-built functions, and methods\n",
        "- Ability to work with statements, indentation, and conditionals\n",
        "- Competence in implementing loops and iterations, including conditional and infinite looping\n",
        "- Mastery of creating and utilizing custom functions in Python\n",
        "- Knowledge of advanced looping concepts\n",
        "- Understanding of object-oriented programming (OOPs) principles in Python\n",
        "- Ability to handle exceptions in your code\n",
        "\n",
        "**3. Deliverables:**\n",
        "\n",
        "You are required to submit the following items for evaluation:\n",
        "- Completed Python coding solutions for the given questions (coding assessment)\n",
        "- Collab link containing your Python code for each question\n",
        "- Video explanation for any five coding questions (demonstrating your understanding and approach)\n",
        "\n",
        "**4. Rubrics:**\n",
        "\n",
        "Your project assessment will be evaluated based on the following rubrics:\n",
        "\n",
        "**a. Coding Assessment:**\n",
        "\n",
        "- Correctness of the code solution\n",
        "- Efficient use of coding constructs\n",
        "- Clear and well-structured code organization\n",
        "\n",
        "**b. Collab Link:**\n",
        "\n",
        "- Submission of Python code through the provided Collab link\n",
        "- Proper organization of code files and resources\n",
        "\n",
        "**c. Video Explanation:**\n",
        "\n",
        "- Clear articulation of solution approach\n",
        "- Coverage of important concepts and logic\n",
        "- Coherent and well-structured explanation\n",
        "\n",
        "Please use these pointers as the basis for evaluating each section of the project assessment."
      ],
      "metadata": {
        "id": "rATVcbDa2pY_"
      }
    },
    {
      "cell_type": "markdown",
      "source": [
        "# **CodeStorm Challenge: Solving and Explaining Complex Coding Problems**\n",
        "\n"
      ],
      "metadata": {
        "id": "KLPQdGNGvXFL"
      }
    },
    {
      "cell_type": "markdown",
      "source": [
        "**Problem Statement:**\n",
        "\n",
        "The CodeStorm Challenge is an intense coding competition designed to test participants' programming skills, problem-solving abilities, and communication prowess. In this challenge, participants will be required to solve a total of 30 intricate coding questions that cover a wide range of algorithms, data structures, and programming paradigms. Additionally, participants are tasked with creating an explanatory video that delves into the solutions of any five chosen questions.\n",
        "\n",
        "The challenge aims to evaluate participants on their coding efficiency, algorithmic thinking, and presentation skills. Participants will need to not only implement correct and optimized solutions to the coding problems but also effectively communicate their thought processes and strategies in the form of a video presentation.\n",
        "\n",
        "**Key Objectives:**\n",
        "\n",
        "* Coding Proficiency: Participants must demonstrate their ability to write clean, efficient, and bug-free code to solve complex programming challenges within a time-constrained environment.\n",
        "\n",
        "* Problem Solving: The challenge will encompass a variety of problem domains, including dynamic programming, graph algorithms, string manipulation, and more. Participants should showcase their prowess in breaking down problems, designing algorithms, and translating solutions into code.\n",
        "\n",
        "* Communication Skills: In addition to coding skills, participants need to exhibit strong communication skills by creating a comprehensive video explaining the thought process, approach, and solution to five selected problems. Clarity, conciseness, and coherence in the video are essential.\n",
        "\n",
        "* Time Management: Participants will need to efficiently manage their time throughout the challenge, allocating sufficient time to solve each question and ensuring they have ample time to create high-quality explanatory videos.\n",
        "\n",
        "* Adaptability: As the challenge encompasses a diverse set of coding problems, participants must be adaptable in applying different algorithms and techniques to solve problems that may vary in difficulty and complexity.\n",
        "\n",
        "**Note:**\n",
        "\n",
        "1. Solve 30 coding problems out of the different problem statements given here.\n",
        "2. Create a video explaining any 5 questions and include the video link before submitting."
      ],
      "metadata": {
        "id": "OBDIMXqy26TD"
      }
    },
    {
      "cell_type": "markdown",
      "source": [
        "# **Introduction to Python Programming**"
      ],
      "metadata": {
        "id": "XIj_QdatBQTt"
      }
    },
    {
      "cell_type": "code",
      "source": [
        "# Score Board Operator\n",
        "\n",
        "# An operator working behind the scoreboard of a inter cohort AlmaBetter cricket tournament, is responsible for updating the scores and points of each team. However, the operator is currently facing a challenge. He has been tasked with updating the total number of points gained by Team London, but he does not possess the necessary programming skills to complete this task. According to the tournament's rules, teams are awarded the following points based on the outcome of a match:\n",
        "\n",
        "#     wins: 3 points\n",
        "#     draws: 1 point\n",
        "#     losses: 0 points\n",
        "\n",
        "# Team London has played 8 matches in this tournament. They won 4 matches, lost 3 matches and drew 1. The operator is in need of assistance to calculate the total number of points earned by Team London. As a python expert adept with knowledge of integer, floats and boolean, you can help the operator by writing a solution for the following problem.\n",
        "\n",
        "# What would your approach be?\n",
        "\n",
        "wins = 3\n",
        "draws = 1\n",
        "losses = 0\n",
        "\n",
        "Won = 4\n",
        "lost = 3\n",
        "drew = 1\n",
        "\n",
        "Total = (wins*Won)+(losses*lost)+(draws*drew)\n",
        "print(Total)\n"
      ],
      "metadata": {
        "id": "v8z41_rUgsJE",
        "colab": {
          "base_uri": "https://localhost:8080/"
        },
        "outputId": "83bf2e6e-38d0-43b3-db71-382efd34c8c6"
      },
      "execution_count": null,
      "outputs": [
        {
          "output_type": "stream",
          "name": "stdout",
          "text": [
            "13\n"
          ]
        }
      ]
    },
    {
      "cell_type": "markdown",
      "source": [
        "## Nutrition bar ingredient chart\n",
        "\n",
        "Imagine you are a data analyst at a nutrition bar manufacturing company. Your department head approaches you with a question. The company produces a nutrition bar that contains **45g of raisins, 65g of almonds, and 30g of apricots**. The head of the manufacturing department wants you to create an ingredient percentage list for the nutrition bar using python.\n",
        "\n",
        "Equipped with the knowledge of int, float and booleans in python, how would you approach this situation?"
      ],
      "metadata": {
        "id": "qEICqapxUkVB"
      }
    },
    {
      "cell_type": "code",
      "source": [
        "\n",
        "# Calculate the percentage of raisins and print the variable\n",
        "raisins= 45\n",
        "almonds= 65\n",
        "apricots=30\n",
        "\n",
        "per_raisin = (raisins/(raisins+almonds+apricots))*100\n",
        "print('per_raisin :' , per_raisin)\n",
        "\n",
        "per_almonds = (almonds/(raisins+almonds+apricots)*100)\n",
        "print(\"per_almonds :\" , per_almonds)\n",
        "\n",
        "per_apricots = (apricots/(raisins+almonds+apricots)*100)\n",
        "print(\"per_apricots : \" , per_apricots)"
      ],
      "metadata": {
        "colab": {
          "base_uri": "https://localhost:8080/"
        },
        "id": "lxEdrgaI8RuQ",
        "outputId": "b35ee35d-fed3-4de4-b3e4-65e47ea4c509"
      },
      "execution_count": null,
      "outputs": [
        {
          "output_type": "stream",
          "name": "stdout",
          "text": [
            "per_raisin : 32.142857142857146\n",
            "per_almonds : 46.42857142857143\n",
            "per_apricots :  21.428571428571427\n"
          ]
        }
      ]
    },
    {
      "cell_type": "code",
      "source": [
        "# Measuring the Accuracy of a Disease Detection Model- Optional\n",
        "\n",
        "# If you're not impressed with these usecases yet, understand that you're just getting started with python. Going forward as a data scientist,\n",
        "#you'll be using what you've learned to design machine learning models that just might even save lives!!\n",
        "\n",
        "# Let's say you have created a machine learning model to detect diseases in patients based on their symptoms and medical history.\n",
        "#The model has been tested on a dataset of 100 patients, including 30 with diabetes, 45 with heart disease, and 25 with cancer.\n",
        "#The model's performance was evaluated in three rounds. In the first round,\n",
        "#the model correctly detected diabetes in 25 out of the 30 patients with the disease.\n",
        "#In the second round, the model correctly detected heart disease in 35 out of the 45 patients with the disease. In the final round,\n",
        "#the model correctly detected cancer in 20 out of the 25 patients with the disease.\n",
        "\n",
        "# The model's accuracy is defined as the percentage of correctly detected cases out of the total number of patient\n",
        "\n",
        "# Assess how accurate your model is across these 3 diseases.\n",
        "\n",
        "\n",
        "# Store the number of heart disease patients\n",
        "Total_heart_d = 45\n",
        "heart_detected = 35\n",
        "\n",
        "# Store the number of diabetes patients\n",
        "Total_diabetes_d = 30\n",
        "diabete_detected = 25\n",
        "\n",
        "# Store the number of cancer patients\n",
        "Total_cancer_d = 25\n",
        "cancer_detected = 20\n",
        "\n",
        "# Store the number of your correct guesses of heart disease patients\n",
        "currect_guess_heart = (heart_detected/Total_heart_d)*100\n",
        "print(\"currect_guess_heart :\", currect_guess_heart)\n",
        "\n",
        "# Store the number of your correct guesses of diabetes patients\n",
        "currect_guess_daibetes = (diabete_detected/Total_diabetes_d)*100\n",
        "print('currect_guess_daibetes :', currect_guess_daibetes)\n",
        "\n",
        "# Store the number of your correct guesses of cancer patients\n",
        "currect_guess_cancer = (cancer_detected/Total_cancer_d)*100\n",
        "print('currect_guess_cancer :', currect_guess_cancer)"
      ],
      "metadata": {
        "colab": {
          "base_uri": "https://localhost:8080/"
        },
        "id": "5pIpOH4p9iQt",
        "outputId": "df1fb0d5-8595-4256-8952-6fed663dac2d"
      },
      "execution_count": null,
      "outputs": [
        {
          "output_type": "stream",
          "name": "stdout",
          "text": [
            "currect_guess_heart : 77.77777777777779\n",
            "currect_guess_daibetes : 83.33333333333334\n",
            "currect_guess_cancer : 80.0\n"
          ]
        }
      ]
    },
    {
      "cell_type": "code",
      "source": [
        "# You must remember the algebraic equations and functions you came across during your school days. If you do, you also must remember how tedious it was to do solve them manually. 😫 Consider a quadratic function:\n",
        "\n",
        "# f(x)=x^2+3x-4\n",
        "\n",
        "# Find the value of f(x) at x =3 , x=-2, and x=4\n",
        "\n",
        "# Doing this manually like the old days would be a tedious job 😞. But now you have python at your disposal 🙂 ! How would you approach this problem using what you have learned?\n",
        "\n",
        "\n",
        "# Calculate the value of the function f(x) at x = 3\n",
        "x = 3\n",
        "func_evaluated_at_3 = x**2+3*x-4\n",
        "print(\"func_evaluated_at_3 :\" , func_evaluated_at_3)\n",
        "\n",
        "# Calculate the value of the function f(x) at x = -2\n",
        "x = -2\n",
        "func_evaluated_at_minus2 = x**2+3*x-4\n",
        "print(\"func_evaluated_at_minus2 :\", func_evaluated_at_minus2)\n",
        "\n",
        "# Calculate the value of the function f(x) at x = 4\n",
        "x = 4\n",
        "func_evaluated_at_4 = x**2+3*x-4\n",
        "print(\"func_evaluated_at_4 : \",func_evaluated_at_4)\n"
      ],
      "metadata": {
        "colab": {
          "base_uri": "https://localhost:8080/"
        },
        "id": "K8vjpxKS-OMN",
        "outputId": "97f1444f-4a2d-4335-a15b-91ced70ab4ac"
      },
      "execution_count": null,
      "outputs": [
        {
          "output_type": "stream",
          "name": "stdout",
          "text": [
            "func_evaluated_at_3 : 14\n",
            "func_evaluated_at_minus2 : -6\n",
            "func_evaluated_at_4 :  24\n"
          ]
        }
      ]
    },
    {
      "cell_type": "code",
      "source": [
        "#Check if func_evaluated_at_3 >= func_evaluated_at_minus2\n",
        "func_evaluated_at_3 >= func_evaluated_at_minus2"
      ],
      "metadata": {
        "colab": {
          "base_uri": "https://localhost:8080/"
        },
        "id": "PYYMhNIy-khR",
        "outputId": "2d711154-1b8a-48c0-ece2-acc3cc01599a"
      },
      "execution_count": null,
      "outputs": [
        {
          "output_type": "execute_result",
          "data": {
            "text/plain": [
              "True"
            ]
          },
          "metadata": {},
          "execution_count": 5
        }
      ]
    },
    {
      "cell_type": "code",
      "source": [
        "#Check if value of f(x) at 3,-2 or 4 is equal to 0 or not\n",
        "func_evaluated_at_3 and func_evaluated_at_minus2 and func_evaluated_at_4 == 0"
      ],
      "metadata": {
        "colab": {
          "base_uri": "https://localhost:8080/"
        },
        "id": "R9Zq9ho4-qHv",
        "outputId": "000f6ae8-7986-40b3-9628-4d0941293881"
      },
      "execution_count": null,
      "outputs": [
        {
          "output_type": "execute_result",
          "data": {
            "text/plain": [
              "False"
            ]
          },
          "metadata": {},
          "execution_count": 6
        }
      ]
    },
    {
      "cell_type": "markdown",
      "source": [],
      "metadata": {
        "id": "Ssc6bISpZ_04"
      }
    },
    {
      "cell_type": "markdown",
      "source": [
        "# Finding total A's in the Bookshelves\n",
        "\n",
        "# In your pursuit of expanding your knowledge of Python, you come across a bookstore in search of books on the subject.\n",
        "\n",
        "# There, you meet a salesperson who is also a Python enthusiast!!\n",
        "\n",
        "# The salesperson presents you with a challenge - they have a list of five books related to Python and if you can write a program that finds the count of letter 'e', the store will give you a free book of your choice. 😀\n",
        "\n",
        "# Are you ready to accept the challenge? 💪"
      ],
      "metadata": {
        "id": "ouMT6SxzaCAv"
      }
    },
    {
      "cell_type": "code",
      "source": [
        "# Here's the list of books\n",
        "books = \"Python for Everyone, Learn Python the Hard Way, Python Crash Course , Starting Out with Python, Automate the Boring Stuff with Python\"\n"
      ],
      "metadata": {
        "id": "iImDmkOZXRRP"
      },
      "execution_count": null,
      "outputs": []
    },
    {
      "cell_type": "code",
      "source": [
        "# Store the count of books containing A/a in the title. Note this will be a case insensitive search\n",
        "\n",
        "e_counts = 0\n",
        "if 'e' in books:\n",
        "  e_counts += 1\n",
        "  print(e_counts)\n",
        "\n",
        "E_counts= 0\n",
        "if 'E' in books:\n",
        "  E_counts +=1\n",
        "  print(E_counts)\n",
        "total_a_counts= e_counts + e_counts"
      ],
      "metadata": {
        "id": "-3HeaI3YXWQ1",
        "colab": {
          "base_uri": "https://localhost:8080/"
        },
        "outputId": "b4a3e1a8-6e6c-4192-9c01-ab58c3c6a26f"
      },
      "execution_count": null,
      "outputs": [
        {
          "output_type": "stream",
          "name": "stdout",
          "text": [
            "1\n",
            "1\n"
          ]
        }
      ]
    },
    {
      "cell_type": "code",
      "source": [
        "\n",
        "# Print the value\n",
        "print(f\"The total number of 'e's in the list of books is {total_a_counts}\")"
      ],
      "metadata": {
        "id": "KXUYgyjBXaCH",
        "colab": {
          "base_uri": "https://localhost:8080/"
        },
        "outputId": "9b426ad4-eefc-4d5d-f2ce-603057f737f8"
      },
      "execution_count": null,
      "outputs": [
        {
          "output_type": "stream",
          "name": "stdout",
          "text": [
            "The total number of 'e's in the list of books is 2\n"
          ]
        }
      ]
    },
    {
      "cell_type": "markdown",
      "source": [
        "## Unleashing the Power of Mean in Exam Analysis"
      ],
      "metadata": {
        "id": "BUzHV9sfvemq"
      }
    },
    {
      "cell_type": "markdown",
      "source": [
        "When analyzing exam scores, teachers have the power to unlock valuable insights into their students' performance. By using the mean and median, they can get a clear picture of how the class is doing as a whole and identify areas where improvement is needed.\n",
        "\n",
        "The mean score is like a report card for the entire class, showing the average of all exam scores. It gives a good general idea of how the class is doing but can be influenced by a few students with extremely high or low scores.\n",
        "\n",
        "By analysing the mean, teachers can get a complete picture of the class performance and make informed decisions to improve the learning experience for their students. So go ahead and use these powerful tools to take your students' exam scores to the next level! 💪"
      ],
      "metadata": {
        "id": "JQOrvXKEwJgy"
      }
    },
    {
      "cell_type": "code",
      "source": [
        "# List of student marks\n",
        "\n",
        "marks = [67,87,75,46,89,97,68,98,87,88]"
      ],
      "metadata": {
        "id": "qTEXZHBxwVP1"
      },
      "execution_count": null,
      "outputs": []
    },
    {
      "cell_type": "code",
      "source": [
        "# Calculate the mean of the marks. Use sum() and len() functions\n",
        "mean_marks = sum(marks)/len(marks)"
      ],
      "metadata": {
        "id": "9BpBKVXFw4Mg"
      },
      "execution_count": null,
      "outputs": []
    },
    {
      "cell_type": "code",
      "source": [
        "print(mean_marks)"
      ],
      "metadata": {
        "id": "XQ1cL8mCpfeS",
        "colab": {
          "base_uri": "https://localhost:8080/"
        },
        "outputId": "36558c80-6cd6-43ce-d3df-bf6da030c16a"
      },
      "execution_count": null,
      "outputs": [
        {
          "output_type": "stream",
          "name": "stdout",
          "text": [
            "80.2\n"
          ]
        }
      ]
    },
    {
      "cell_type": "markdown",
      "source": [],
      "metadata": {
        "id": "WGlXptMsZFdD"
      }
    },
    {
      "cell_type": "markdown",
      "source": [
        "\n",
        "John's Fruit Stand Sales Mix-up\n",
        "\n",
        "You must remember from the previous lessons that dictionaries can be used to store values corresponding to a particular key. But how is this helpful to us?\n",
        "\n",
        "Let's look at this scenario:\n",
        "\n",
        "Jim owns a quaint little fruit stand that sells mangoes, bananas, apples, and pineapples. One day, with Jim being tied up, he tasked his son John to manage the shop for a day. Being new to the game, John recorded the sales data in an unconventional way. He wrote down the name of each fruit as many times as it was sold, creating a list like this:\n",
        "\n",
        "['Mango','Mango','Mango','Pineapple','Pineapple','Pineapple','Apple','Mango','Banana','Apple','Banana','Apple','Pineapple','Apple','Apple','Pineapple','Pineapple'] 🤦\n",
        "\n",
        "But, this method is not very efficient or easy to read.\n",
        "\n",
        "Forunately you were there at the shop to grab some apples yourselves, and you saw what John was doing.\n",
        "\n",
        "You can help him out to structure the data by using dictionaries. How?"
      ],
      "metadata": {
        "id": "8dRSP7VVZItr"
      }
    },
    {
      "cell_type": "code",
      "execution_count": null,
      "metadata": {
        "id": "lqRlffflqcUg"
      },
      "outputs": [],
      "source": [
        "#Here's John's list:\n",
        "fruit_list=['Mango','Mango','Mango','Pineapple','Pineapple','Pineapple','Apple','Mango','Banana','Apple','Banana','Apple','Pineapple','Apple','Apple','Pineapple','Pineapple']"
      ]
    },
    {
      "cell_type": "code",
      "source": [
        "# Step 2: Create an empty dictionary which will contain the unique fruit names\n",
        "fruit_dict={}\n",
        "\n",
        "# Set the values for each key separately\n",
        "\n",
        "# First Key\n",
        "fruit_dict['Mango']= fruit_list.count('Mango')\n",
        "\n",
        "# Second Key\n",
        "fruit_dict['Pineapple']= fruit_list.count('Pineapple')\n",
        "\n",
        "\n",
        "# Third Key\n",
        "fruit_dict['Apple']= fruit_list.count('Apple')\n",
        "\n",
        "# Fourth Key\n",
        "fruit_dict['Banana']= fruit_list.count('Banana')"
      ],
      "metadata": {
        "id": "zP1dXujAD_GA"
      },
      "execution_count": null,
      "outputs": []
    },
    {
      "cell_type": "code",
      "source": [
        "print(fruit_dict)"
      ],
      "metadata": {
        "id": "oy02z7prygYo",
        "colab": {
          "base_uri": "https://localhost:8080/"
        },
        "outputId": "84b4073a-a8d8-4df2-ac95-4e0cf02807e4"
      },
      "execution_count": null,
      "outputs": [
        {
          "output_type": "stream",
          "name": "stdout",
          "text": [
            "{'Mango': 4, 'Pineapple': 6, 'Apple': 5, 'Banana': 2}\n"
          ]
        }
      ]
    },
    {
      "cell_type": "markdown",
      "source": [
        "## Imagine that you are a superhero movie buff and you're trying to create a list of the most iconic Marvel characters. You have compiled a list of some of the most popular characters, but you want to narrow it down to the top 6.\n",
        "\n",
        "Here's your list of characters:\n",
        "\n",
        "marvel_words = ['Avengers', 'X-Men', 'Spider-Man', 'Iron Man', 'Hulk', 'Thor', 'Black Widow', 'Captain America', 'Wolverine', 'Doctor Strange', 'Namor']\n"
      ],
      "metadata": {
        "id": "4xWhhMD7lFiO"
      }
    },
    {
      "cell_type": "code",
      "source": [
        "# Here's your list of characters:\n",
        "\n",
        "marvel_words = ['Avengers', 'X-Men', 'Spider-Man', 'Iron Man', 'Hulk', 'Thor', 'Black Widow', 'Captain America', 'Wolverine', 'Doctor Strange', 'Namor']"
      ],
      "metadata": {
        "id": "wecbawDhmHhv"
      },
      "execution_count": null,
      "outputs": []
    },
    {
      "cell_type": "markdown",
      "source": [
        "You want to narrow down the list to the last 6 characters in the list. These characters are:\n",
        "\n",
        "* Namor\n",
        "* Doctor Strange\n",
        "* Wolverine\n",
        "* Captain America\n",
        "* Black Widow\n",
        "* Thor\n",
        "\n",
        "\n",
        "\n"
      ],
      "metadata": {
        "id": "LCQe44-gwnxB"
      }
    },
    {
      "cell_type": "markdown",
      "source": [
        "Write a code to slice these characters from the list"
      ],
      "metadata": {
        "id": "ixSrQmeVwwYD"
      }
    },
    {
      "cell_type": "code",
      "source": [
        "# Replace x with appropriate values\n",
        "new_marvel=marvel_words[-1:-7:-1]\n",
        "print(new_marvel)"
      ],
      "metadata": {
        "id": "GF31Mwo2wmM7",
        "colab": {
          "base_uri": "https://localhost:8080/"
        },
        "outputId": "7300282e-7311-433e-c76b-4dd91f78fd27"
      },
      "execution_count": null,
      "outputs": [
        {
          "output_type": "stream",
          "name": "stdout",
          "text": [
            "['Namor', 'Doctor Strange', 'Wolverine', 'Captain America', 'Black Widow', 'Thor']\n"
          ]
        }
      ]
    },
    {
      "cell_type": "markdown",
      "source": [
        "## Create two teams of superheroes based on their index position: one team should consist of all the characters located at even index positions, while the other team should consist of all the characters located at odd index positions."
      ],
      "metadata": {
        "id": "ExOuQaMiYSs7"
      }
    },
    {
      "cell_type": "code",
      "source": [
        "team1=marvel_words[1::2]\n",
        "print(\"even index character :\",team1)  #Add appropriate index and step size\n",
        "\n",
        "team2 = marvel_words[::2]\n",
        "print(\"odd index character :\",team2)"
      ],
      "metadata": {
        "id": "FfV-JzekZBKd",
        "colab": {
          "base_uri": "https://localhost:8080/"
        },
        "outputId": "7627fde0-03e8-4830-cbed-18fdd2b77d28"
      },
      "execution_count": null,
      "outputs": [
        {
          "output_type": "stream",
          "name": "stdout",
          "text": [
            "even index character : ['X-Men', 'Iron Man', 'Thor', 'Captain America', 'Doctor Strange']\n",
            "odd index character : ['Avengers', 'Spider-Man', 'Hulk', 'Black Widow', 'Wolverine', 'Namor']\n"
          ]
        }
      ]
    },
    {
      "cell_type": "markdown",
      "source": [
        "###3. Store the word 'Spider-Man' in a new variable, and slice the word 'Spider' from it."
      ],
      "metadata": {
        "id": "-mQM5JHjm_pS"
      }
    },
    {
      "cell_type": "code",
      "source": [
        "spider_man=marvel_words[2] # Add appropriate index number\n",
        "spidey_sliced=spider_man[::-1] # Add appropriate index number\n",
        "print(spidey_sliced)\n"
      ],
      "metadata": {
        "id": "3umcx5a5m3Fn",
        "colab": {
          "base_uri": "https://localhost:8080/"
        },
        "outputId": "6b0d4b62-3c17-42be-b389-9ca21b39eeb1"
      },
      "execution_count": null,
      "outputs": [
        {
          "output_type": "stream",
          "name": "stdout",
          "text": [
            "naM-redipS\n"
          ]
        }
      ]
    },
    {
      "cell_type": "markdown",
      "source": [
        "###4. Store the word 'Iron-Man' in a variable and use reverse indexing to reverse it."
      ],
      "metadata": {
        "id": "K_QHunxknscj"
      }
    },
    {
      "cell_type": "code",
      "source": [
        "#Your code here\n",
        "iron_man=marvel_words[3]\n",
        "reversed_man=iron_man[::-1]\n",
        "print(reversed_man)"
      ],
      "metadata": {
        "id": "LK5c5ELwqpvW",
        "colab": {
          "base_uri": "https://localhost:8080/"
        },
        "outputId": "802ebf79-6ccf-4c41-e6a6-aa5994a183a2"
      },
      "execution_count": null,
      "outputs": [
        {
          "output_type": "stream",
          "name": "stdout",
          "text": [
            "naM norI\n"
          ]
        }
      ]
    },
    {
      "cell_type": "markdown",
      "source": [
        "\n",
        "## 🎉 Let's do some math!\n",
        "\n",
        "* 📐 First up, let's calculate the area of a square with sides that measure 5 cm. 🤔 How much space does this shape occupy?\n",
        "\n",
        "* 🔍 Next, let's find the volume of a cube with sides that measure 12 cm. 📏 How much room does this shape take up?\n",
        "\n",
        "* 🔢 Lastly, we'll find the quotient and remainder when we divide 10 by 4. 🧐 How many times does 4 fit into 10? What's left over?"
      ],
      "metadata": {
        "id": "HNOkGnOhYRdb"
      }
    },
    {
      "cell_type": "code",
      "source": [
        "side1 = 5\n",
        "ar_square= side1**2\n",
        "side2 = 12\n",
        "vol_cube= side2**3\n",
        "\n",
        "quotient= 10//4\n",
        "remainder=10%4\n",
        "\n",
        "print(remainder)\n",
        "print(quotient)\n",
        "print(vol_cube)\n",
        "print(ar_square)"
      ],
      "metadata": {
        "id": "JIBfHim7IrBG",
        "colab": {
          "base_uri": "https://localhost:8080/"
        },
        "outputId": "84d0b58f-eea3-4d14-f29b-4665e43f0903"
      },
      "execution_count": null,
      "outputs": [
        {
          "output_type": "stream",
          "name": "stdout",
          "text": [
            "2\n",
            "2\n",
            "1728\n",
            "25\n"
          ]
        }
      ]
    },
    {
      "cell_type": "markdown",
      "source": [
        "## 📚 Let's practice some comparison operators! Here's a problem for you to solve:\n",
        "\n",
        "🍎 The first basket contains 12 apples, and the second basket contains 8 apples. Use comparison operators to answer the following questions:\n",
        "\n",
        "* Is the number of apples in the first basket greater than the number of apples in the second basket?\n",
        "\n",
        "* Is the number of apples in the second basket less than or equal to the number of apples in the first basket?\n",
        "* Is the number of apples in the first basket equal to the number of apples in the second basket?\n",
        "* Is the number of apples in the second basket not equal to the number of apples in the first basket?\n",
        "\n",
        "Use comparison operators (i.e. >, >=, <, <=, ==, !=) in your code to answer each question. Good luck! 🍎🍏"
      ],
      "metadata": {
        "id": "nAX2nLAZWpKI"
      }
    },
    {
      "cell_type": "code",
      "source": [
        "# Your code here\n",
        "basket1=12\n",
        "basket2=8\n",
        "\n",
        "#Is the number of apples in the first basket greater than the number of apples in the second basket?\n",
        "a = basket1>basket2\n",
        "print(a)\n",
        "\n",
        "#Is the number of apples in the second basket less than or equal to the number of apples in the first basket?\n",
        "b = basket2 <= basket1\n",
        "print(b)\n",
        "\n",
        "#Is the number of apples in the first basket equal to the number of apples in the second basket?\n",
        "c = basket1 == basket2\n",
        "print(c)\n",
        "\n",
        "#Is the number of apples in the second basket not equal to the number of apples in the first basket?\n",
        "d = basket2 != basket1\n",
        "print(d)"
      ],
      "metadata": {
        "id": "-TsVx5cdWpKI",
        "colab": {
          "base_uri": "https://localhost:8080/"
        },
        "outputId": "1b54075f-59f1-455b-f196-ac468bdfcb22"
      },
      "execution_count": null,
      "outputs": [
        {
          "output_type": "stream",
          "name": "stdout",
          "text": [
            "True\n",
            "True\n",
            "False\n",
            "True\n"
          ]
        }
      ]
    },
    {
      "cell_type": "markdown",
      "source": [
        "## 🌴 Are you ready for your trip to Goa? 🌊 You've got two bags with you, and you need to make sure they're light enough to board the flight. Let's use some logical operators to find out if you can make it on time!\n",
        "\n",
        "🧳 One of your bags weighs 15 kg, while the other one weighs only 5 kg. 💪 You know you can pack a lot more in the heavier bag, but you have to be careful not to go over the weight limit.\n",
        "\n",
        "👮‍♀️ The airline has a strict policy that both of your bags must weigh less than 13 kg each. Can you make it on the flight? Let's use logical operators to find out!"
      ],
      "metadata": {
        "id": "7_yNqud-j1TS"
      }
    },
    {
      "cell_type": "code",
      "source": [
        "# Define the weight of your bags\n",
        "bag1_weight = 15\n",
        "bag2_weight = 5\n",
        "\n",
        "# Check if both bags weigh less than 13 kg\n",
        "if bag1_weight < 13 and bag2_weight < 13:\n",
        "  print(\"Enjoy your trip! \")\n",
        "else:\n",
        "  print(\"Sorry, You can not go through!\")"
      ],
      "metadata": {
        "id": "3S-wDvHbZYvx",
        "colab": {
          "base_uri": "https://localhost:8080/"
        },
        "outputId": "2f2bf741-02fa-45d1-9cbe-986cff435fba"
      },
      "execution_count": null,
      "outputs": [
        {
          "output_type": "stream",
          "name": "stdout",
          "text": [
            "Sorry, You can not go through!\n"
          ]
        }
      ]
    },
    {
      "cell_type": "code",
      "source": [
        "print(\"Sorry, You can not go through!\")"
      ],
      "metadata": {
        "id": "MVrOPAkTbRR0"
      },
      "execution_count": null,
      "outputs": []
    },
    {
      "cell_type": "markdown",
      "source": [
        "🧳 Uh oh, it looks like we have a problem with our bags! But don't worry, the crew has offered a solution. 😊\n",
        "\n",
        "👨‍✈️ They've said that if at least one of our bags weighs less than 6 kg, we can still board the flight this time. 🛫\n",
        "\n",
        "🤔 Are we ready for the trip or not? Let's use some logical operators to find out!"
      ],
      "metadata": {
        "id": "bF2FQenhZZPq"
      }
    },
    {
      "cell_type": "code",
      "source": [
        "# Define the weight of your bags\n",
        "bag1_weight = 15\n",
        "bag2_weight = 5\n",
        "\n",
        "# Check if at least one bag weighs less than 6 kg\n",
        "# If the result is False, print(\"Sorry, You can not go through!\")\n",
        "# Else, if the result is True, print(\"Enjoy your trip!\")\n",
        "\n"
      ],
      "metadata": {
        "id": "7ndd_Gw3bhIz"
      },
      "execution_count": null,
      "outputs": []
    },
    {
      "cell_type": "code",
      "source": [
        "if bag1_weight < 6 or bag2_weight < 6:\n",
        "  print(\"Enjoy your trip!\")\n",
        "else:\n",
        "  print(\"Sorry, You can not go through!\")"
      ],
      "metadata": {
        "colab": {
          "base_uri": "https://localhost:8080/"
        },
        "id": "KFxmPOo4GGHg",
        "outputId": "e2575e3a-cadd-431c-f1c1-037f5a49ada6"
      },
      "execution_count": null,
      "outputs": [
        {
          "output_type": "stream",
          "name": "stdout",
          "text": [
            "Enjoy your trip!\n"
          ]
        }
      ]
    },
    {
      "cell_type": "markdown",
      "source": [
        "🤔 Did you notice how we made a decision on which print statement to use based on the result of our logical operators? 🤔\n",
        "\n",
        "🚀 Later on, we're going to learn how to do this in a single step, making it even easier for you. So stay curious 😎"
      ],
      "metadata": {
        "id": "vqQMQs4geeYm"
      }
    },
    {
      "cell_type": "markdown",
      "source": [
        "## 📚 Imagine that you're a book lover with a collection of lot of books. 🤓\n",
        "\n",
        "🔎 You need to find out how many of your books contain the word \"Python\" in them. 🐍"
      ],
      "metadata": {
        "id": "0yVUrg0NLnxz"
      }
    },
    {
      "cell_type": "code",
      "source": [
        "books = [\n",
        "    \"Python for Data Science Handbook by Jake VanderPlas\",\n",
        "    \"The Pragmatic Programmer by Andrew Hunt and David Thomas\",\n",
        "    \"Python Machine Learning by Sebastian Raschka\",\n",
        "    \"The Alchemist by Paulo Coelho\",\n",
        "]"
      ],
      "metadata": {
        "id": "HE7i9PDDjSLB"
      },
      "execution_count": null,
      "outputs": []
    },
    {
      "cell_type": "code",
      "source": [
        "count = 0\n",
        "for book in books:\n",
        "  if 'Python' in book:\n",
        "    count +=1\n",
        "print(count)\n",
        "# If True, increase the count variable by 1."
      ],
      "metadata": {
        "colab": {
          "base_uri": "https://localhost:8080/"
        },
        "id": "QTzcikSoGbn4",
        "outputId": "99a87272-1d6e-4323-bc09-dfec6a10b1a6"
      },
      "execution_count": null,
      "outputs": [
        {
          "output_type": "stream",
          "name": "stdout",
          "text": [
            "2\n"
          ]
        }
      ]
    },
    {
      "cell_type": "markdown",
      "source": [
        "# **In-Built Functions & Methods**"
      ],
      "metadata": {
        "id": "B80a_pgbGRll"
      }
    },
    {
      "cell_type": "markdown",
      "source": [
        "## Here is a string for you to work with:"
      ],
      "metadata": {
        "id": "rg1rF2AJqlrU"
      }
    },
    {
      "cell_type": "code",
      "source": [
        "# Here is the statement.\n",
        "\n",
        "statement = \"anas eagerly recommended 'the shawshank redemption' to his friends. He described the movie as a captivating and emotional story of hope and friendship. His friends decided to watch it together the following weekend.\""
      ],
      "metadata": {
        "id": "x5DsgVU5pYep"
      },
      "execution_count": null,
      "outputs": []
    },
    {
      "cell_type": "code",
      "source": [
        "# Create a list containing the three sentences in the statement.\n",
        "\n",
        "sentence_list= statement.split('.')\n",
        "print(sentence_list)"
      ],
      "metadata": {
        "colab": {
          "base_uri": "https://localhost:8080/"
        },
        "id": "NXYuZ6mtIBqD",
        "outputId": "d54c1777-440f-41e3-ac50-0f681c25e57a"
      },
      "execution_count": null,
      "outputs": [
        {
          "output_type": "stream",
          "name": "stdout",
          "text": [
            "[\"anas eagerly recommended 'the shawshank redemption' to his friends\", ' He described the movie as a captivating and emotional story of hope and friendship', ' His friends decided to watch it together the following weekend', '']\n"
          ]
        }
      ]
    },
    {
      "cell_type": "code",
      "source": [
        "# The name 'anas' is spelled wrong.\n",
        "# Replace it with 'Anas'.\n",
        "\n",
        "correction_statement =  statement.replace('anas','Anas') #Redefine the statement, with the correction.\n",
        "print(correction_statement)\n"
      ],
      "metadata": {
        "colab": {
          "base_uri": "https://localhost:8080/"
        },
        "id": "vehtRMPuIHff",
        "outputId": "c31ece25-6b3a-40d7-b0d3-9cbfd18d5bfe"
      },
      "execution_count": null,
      "outputs": [
        {
          "output_type": "stream",
          "name": "stdout",
          "text": [
            "Anas eagerly recommended 'the shawshank redemption' to his friends. He described the movie as a captivating and emotional story of hope and friendship. His friends decided to watch it together the following weekend.\n"
          ]
        }
      ]
    },
    {
      "cell_type": "markdown",
      "source": [
        "3. The title of the book is not written in the correct cases as well. Make corrections there."
      ],
      "metadata": {
        "id": "HaY-Pmgrr14E"
      }
    },
    {
      "cell_type": "code",
      "source": [
        "# Make corrections here.\n",
        "Title_statement= statement.replace('the shawshank redemption', \"The Shawshank Redemption\")\n",
        "print(Title_statement)\n",
        "\n",
        "new_statement = statement.title()\n",
        "print(new_statement)"
      ],
      "metadata": {
        "id": "qy50EVKesKoa",
        "colab": {
          "base_uri": "https://localhost:8080/"
        },
        "outputId": "c5be41ac-e03e-42ce-8bb9-e04ccd17bd62"
      },
      "execution_count": null,
      "outputs": [
        {
          "output_type": "stream",
          "name": "stdout",
          "text": [
            "anas eagerly recommended 'The Shawshank Redemption' to his friends. He described the movie as a captivating and emotional story of hope and friendship. His friends decided to watch it together the following weekend.\n",
            "Anas Eagerly Recommended 'The Shawshank Redemption' To His Friends. He Described The Movie As A Captivating And Emotional Story Of Hope And Friendship. His Friends Decided To Watch It Together The Following Weekend.\n"
          ]
        }
      ]
    },
    {
      "cell_type": "markdown",
      "source": [
        "4. You believe \"The Shawshank Redemption\" would be bit too gloomy for the lot. Take user input of which movie to recommend and replace \"The Shawshank Redemption\" from the statement with the new recommendation."
      ],
      "metadata": {
        "id": "g7-df8O_sa8w"
      }
    },
    {
      "cell_type": "code",
      "source": [
        "# Change the recommendation of movie to one, of your choice.\n",
        "# Take input of movie\n",
        "\n",
        "new_movie=input(\"Which movie wold you recommend? \")\n",
        "New_movie_statement= statement.replace(\"the shawshank redemption\",new_movie)\n",
        "print(New_movie_statement)"
      ],
      "metadata": {
        "id": "FaoDdYues1sT",
        "colab": {
          "base_uri": "https://localhost:8080/"
        },
        "outputId": "9b834c16-5290-4036-ebd3-3bc3638fed0a"
      },
      "execution_count": null,
      "outputs": [
        {
          "output_type": "stream",
          "name": "stdout",
          "text": [
            "Which movie wold you recommend? leo\n",
            "anas eagerly recommended 'leo' to his friends. He described the movie as a captivating and emotional story of hope and friendship. His friends decided to watch it together the following weekend.\n"
          ]
        }
      ]
    },
    {
      "cell_type": "markdown",
      "source": [
        "## 🎥 Suppose you have a collection of your favorite movies 🍿🎞️ and you want to keep track of them using a Python list 📜. You start with an empty list [] and keep adding new movies 🆕 to it. You also want to be able to remove movies ❌ that you have watched or no longer wish to keep in your collection. Finally, you want to be able to count 🔢 how many movies you have in your collection and reverse the order of the list 🔄."
      ],
      "metadata": {
        "id": "qCn4QduqtXLg"
      }
    },
    {
      "cell_type": "code",
      "source": [
        "# Start with an empty list\n",
        "movie_collection = []\n",
        "\n",
        "# Add some movies to the collection using the append() method\n",
        "movie_collection.append(\"Jawan\") # Use your favourite movie names\n",
        "movie_collection.append(\"Gadar 2\")\n",
        "movie_collection.append(\"John wick 4\")\n",
        "movie_collection.append(\"Black Adam\")\n",
        "movie_collection.append(\"Tiger 3\")\n",
        "\n",
        "# Print the current collection of movies\n",
        "print(\"My Movie Collection:\", movie_collection)\n",
        "\n",
        "# Remove a movie from the collection using the pop() method\n",
        "# Code to remove index 3 here\n",
        "movie_collection.pop(3)\n",
        "print(\"After removing movie 4\", movie_collection)\n",
        "\n",
        "# Count how many movies are in the collection using the count() method\n",
        "num_movies = len(movie_collection)\n",
        "print(\"Number of movies:\", num_movies)\n",
        "\n",
        "# Reverse the order of the list using the reverse() method\n",
        "movie_collection.reverse()\n",
        "\n",
        "print(\"Reversed movie collection:\", movie_collection)\n"
      ],
      "metadata": {
        "id": "gHyiib9ptWpx",
        "colab": {
          "base_uri": "https://localhost:8080/"
        },
        "outputId": "69f87d17-3e02-4a1d-bbc4-9781c442e5b7"
      },
      "execution_count": null,
      "outputs": [
        {
          "output_type": "stream",
          "name": "stdout",
          "text": [
            "My Movie Collection: ['Jawan', 'Gadar 2', 'John wick 4', 'Black Adam', 'Tiger 3']\n",
            "After removing movie 4 ['Jawan', 'Gadar 2', 'John wick 4', 'Tiger 3']\n",
            "Number of movies: 4\n",
            "Reversed movie collection: ['Tiger 3', 'John wick 4', 'Gadar 2', 'Jawan']\n"
          ]
        }
      ]
    },
    {
      "cell_type": "markdown",
      "source": [
        "## 👩‍🏫 A teacher has stored the names of his students in a tuple as follows:\n",
        "('Adam','Alice','Ben','Bilal','Bharath')\n",
        "\n",
        "👨‍🎓 Their role numbers are defined as their index number + 1.\n",
        "\n",
        "🖥️ Write a program which would take the name of the student as input and return their role number."
      ],
      "metadata": {
        "id": "uEY4_vNcvEZj"
      }
    },
    {
      "cell_type": "code",
      "source": [
        "student_tupple=('Adam','Alice','Ben','Bilal','Bharath')"
      ],
      "metadata": {
        "id": "MuXV52jRwNWR"
      },
      "execution_count": null,
      "outputs": []
    },
    {
      "cell_type": "code",
      "source": [
        "# Take input from user and display role number as index of the input + 1\n",
        "student=input(\"Input the student name to get roll number - \")\n",
        "print(student,\"'s roll number is: \", student_tupple.index(student)+1) # Replace x with appropriate value"
      ],
      "metadata": {
        "colab": {
          "base_uri": "https://localhost:8080/"
        },
        "id": "XPMNZkTnwRhb",
        "outputId": "224c9855-9d9b-431e-a3ec-3b9799be1426"
      },
      "execution_count": null,
      "outputs": [
        {
          "output_type": "stream",
          "name": "stdout",
          "text": [
            "Input the student name to get roll number - Ben\n",
            "Ben 's roll number is:  3\n"
          ]
        }
      ]
    },
    {
      "cell_type": "markdown",
      "source": [
        "## A store 🏪 sells different types of fruits 🍎🍌🍇🍓 in baskets 🧺. The storekeeper 🧑 keeps track of the availability of each fruit type in separate sets. The storekeeper wants to know which fruits are available in both baskets, which fruits are unique to each basket, and the total number of fruits available. 🤔"
      ],
      "metadata": {
        "id": "8fz0W273yMnA"
      }
    },
    {
      "cell_type": "code",
      "source": [
        "# Define sets for fruits in each basket\n",
        "basket1 = {'apple', 'banana', 'grape', 'orange'}\n",
        "basket2 = {'banana', 'mango', 'pineapple', 'orange'}\n",
        "\n",
        "# Find the total number of fruits available\n",
        "total_fruits = len(basket1) + len(basket2)\n",
        "print(\"Total number of fruits available:\", total_fruits)\n",
        "\n",
        "# Find fruits available in both baskets\n",
        "both_baskets = basket1 | basket2   # Replace x with appropriate method\n",
        "print(\"All the available fruits:\", both_baskets)\n",
        "\n",
        "# Find only the common fruits in both baskets\n",
        "common_fruits = basket1 & basket2   # Replace x with appropriate method\n",
        "print(\"Common fruits in both baskets:\", common_fruits)\n",
        "\n",
        "# Find fruits unique to each basket\n",
        "unique_basket1 = basket1 - basket2    # Replace x with appropriate method\n",
        "unique_basket2 = basket2 - basket1    # Replace x with appropriate method\n",
        "print(\"Fruits unique to basket 1:\", unique_basket1)\n",
        "print(\"Fruits unique to basket 2:\", unique_basket2)\n",
        "\n"
      ],
      "metadata": {
        "id": "v8PqzLt52z15",
        "colab": {
          "base_uri": "https://localhost:8080/"
        },
        "outputId": "94990682-7947-46c0-dd98-9e9e6380e448"
      },
      "execution_count": null,
      "outputs": [
        {
          "output_type": "stream",
          "name": "stdout",
          "text": [
            "Total number of fruits available: 8\n",
            "All the available fruits: {'grape', 'orange', 'apple', 'banana', 'mango', 'pineapple'}\n",
            "Common fruits in both baskets: {'banana', 'orange'}\n",
            "Fruits unique to basket 1: {'apple', 'grape'}\n",
            "Fruits unique to basket 2: {'mango', 'pineapple'}\n"
          ]
        }
      ]
    },
    {
      "cell_type": "markdown",
      "source": [
        "## 👉 Imagine that you are a food inspector who is responsible for inspecting the lead content of a packaged food material at a factory. If the content exceeds 5%, you should print the message \"This batch cannot be approved\".\n"
      ],
      "metadata": {
        "id": "ByhB8JrbeqQB"
      }
    },
    {
      "cell_type": "code",
      "source": [
        "# Get the lead content of the packaged food material\n",
        "lead_content = float(input(\"Please enter the lead content of the packaged food material in percentage: \"))\n",
        "\n",
        "# Check if the lead content exceeds 5%\n",
        "if lead_content > 5:\n",
        "  print('This batch cannot be aprroved')\n",
        "else:\n",
        "  print('This batch is aprroved')\n",
        "\n"
      ],
      "metadata": {
        "id": "SZMMKSXteqQC",
        "colab": {
          "base_uri": "https://localhost:8080/"
        },
        "outputId": "c54cf067-7f81-494d-ef9c-f0e3bdd45d33"
      },
      "execution_count": null,
      "outputs": [
        {
          "output_type": "stream",
          "name": "stdout",
          "text": [
            "Please enter the lead content of the packaged food material in percentage: 5\n",
            "This batch is aprroved\n"
          ]
        }
      ]
    },
    {
      "cell_type": "markdown",
      "source": [
        "## 👉 Imagine: You're a bouncer at a nightclub and need to check if someone is old enough to enter. The legal age for entry is 18 years. If the person is less than 18 years print \"Sorry You can not enter!\"."
      ],
      "metadata": {
        "id": "AbgFO_SEeqQD"
      }
    },
    {
      "cell_type": "code",
      "source": [
        "age = int(input(\"enter the age: \"))\n",
        "\n",
        "#Check the age of the guest\n",
        "if age > 18:\n",
        "  print('\"Welcome\"')\n",
        "else:\n",
        "  print('Sorry you can not enter')\n"
      ],
      "metadata": {
        "colab": {
          "base_uri": "https://localhost:8080/"
        },
        "outputId": "ad95448d-b9bf-453b-e695-9abea847d57e",
        "id": "0uZg98vneqQE"
      },
      "execution_count": null,
      "outputs": [
        {
          "output_type": "stream",
          "name": "stdout",
          "text": [
            "enter the age: 23\n",
            "\"Welcome\"\n"
          ]
        }
      ]
    },
    {
      "cell_type": "markdown",
      "source": [
        "## 👉 Imagine you are a fitness instructor who needs to evaluate if a client has reached their weight loss goal. The target weight loss goal is 10 pounds. If the client has lost at least 10 pounds, you should print the message \"Congratulations, you have reached your weight loss goal!\" However, if the client has lost less than 10 pounds, you should print \"Sorry, you have not reached your weight loss goal yet. Keep up the good work!\""
      ],
      "metadata": {
        "id": "fmzxpgNEo1Le"
      }
    },
    {
      "cell_type": "code",
      "source": [
        "# Get the client's weight loss\n",
        "client_weight_loss = float(input(\"Please enter the client's weight loss (in pounds): \"))\n",
        "\n",
        "# Check if the client reached their weight loss goal\n",
        "if client_weight_loss >= 10:\n",
        "  print('\"Congratulations, you have reached your weight loss goal!\"')\n",
        "else:\n",
        "  print('\"Sorry, you have not reached your weight loss goal yet. Keep up the good work!\"')"
      ],
      "metadata": {
        "id": "nDMEHColo5hu",
        "colab": {
          "base_uri": "https://localhost:8080/"
        },
        "outputId": "5166a6bc-067e-4978-bfe8-9625df5d017d"
      },
      "execution_count": null,
      "outputs": [
        {
          "output_type": "stream",
          "name": "stdout",
          "text": [
            "Please enter the client's weight loss (in pounds): 10\n",
            "\"Congratulations, you have reached your weight loss goal!\"\n"
          ]
        }
      ]
    },
    {
      "cell_type": "markdown",
      "source": [
        "##👉 Imagine: You're a gardener and need to check if a plant needs watering. If the soil moisture level is below 40%, print \"Water the plant!\", otherwise, print \"The plant doesn't need watering.\""
      ],
      "metadata": {
        "id": "eLOwny2bprgv"
      }
    },
    {
      "cell_type": "code",
      "source": [
        "# Take input of moisture level\n",
        "moisture_level = int(input(\"Enter moisture level \"))\n",
        "\n",
        "#Check if moisture level is satisfactory or not\n",
        "if moisture_level < 40:\n",
        "  print('\"Water the palnt\"')\n",
        "else:\n",
        "  print('''\"The plant doesn't need watering.\"''')\n",
        "\n"
      ],
      "metadata": {
        "id": "8SAviqFOp1xX",
        "colab": {
          "base_uri": "https://localhost:8080/"
        },
        "outputId": "b8d32c0d-a055-4142-ab09-9c89edc598d6"
      },
      "execution_count": null,
      "outputs": [
        {
          "output_type": "stream",
          "name": "stdout",
          "text": [
            "Enter moisture level 30\n",
            "\"Water the palnt\"\n"
          ]
        }
      ]
    },
    {
      "cell_type": "markdown",
      "source": [
        "##📦📬🚚 Creating a shipping cost calculator! ⚙️\n",
        "\n",
        "You need to create a program that calculates the cost of shipping a package based on its weight and destination 📦💰\n",
        "\n",
        "🌍 Domestic shipping within the country :\n",
        "\n",
        "* Packages weighing up to 1 kg cost Rs.50 to ship 🤑\n",
        "Each additional kg costs Rs.10 extra 💰\n",
        "\n",
        "🌎 International shipping to other countries 🌏:\n",
        "\n",
        "* Packages weighing up to 1 kg cost Rs.500 to ship 🤑\n",
        "\n",
        "Each additional kg costs Rs.100 extra 💰\n",
        "Ready to ship? 🚛🚀"
      ],
      "metadata": {
        "id": "XA2dKqlxMVsH"
      }
    },
    {
      "cell_type": "code",
      "source": [
        "destination = input('Enter the Destination: ').lower()\n",
        "weight = int(input('Enter the weight of your package: '))\n",
        "\n",
        "if destination == 'domestic':\n",
        "  if weight <= 1:\n",
        "    cost = weight*50\n",
        "    print(cost)\n",
        "  else:\n",
        "    cost = (1*50)+((weight-1)*10)\n",
        "    print(cost)\n",
        "elif destination == 'international':\n",
        "  if weight <=1:\n",
        "    cost = weight*500\n",
        "    print(cost)\n",
        "  else:\n",
        "    cost = (1*500)+((weight-1)*100)\n",
        "    print(cost)"
      ],
      "metadata": {
        "colab": {
          "base_uri": "https://localhost:8080/"
        },
        "id": "xTK1rdOQKidL",
        "outputId": "35b42644-aa1c-46d7-a906-13c4b95573c6"
      },
      "execution_count": null,
      "outputs": [
        {
          "output_type": "stream",
          "name": "stdout",
          "text": [
            "Enter the Destination: international\n",
            "Enter the weight of your package: 3\n",
            "700\n"
          ]
        }
      ]
    },
    {
      "cell_type": "markdown",
      "source": [
        "## 🚗 As a car dealership manager, you need to create a discount system for your customers based on the price of the car they want to buy. Here are the rules! 📝\n",
        "\n",
        "🚘 If the car price is less than Rs. 10,00,000, there is no discount.\n",
        "\n",
        "🎁 If the car price is between Rs. 10,00,000 and Rs. 20,00,000, there is a discount of 5%.\n",
        "\n",
        "🎉 If the car price is between Rs. 20,00,000 and Rs. 30,00,000, there is a discount of 7.5%.\n",
        "\n",
        "🥳 If the car price is greater than Rs. 30,00,000, there is a discount of 10%.\n",
        "\n",
        "Are you ready to make your customers happy with these discounts? 🚗💰"
      ],
      "metadata": {
        "id": "gLPLG7NaYofV"
      }
    },
    {
      "cell_type": "code",
      "source": [
        "car_price = int(input())\n",
        "\n",
        "if car_price < 1000000:\n",
        "  discount = car_price\n",
        "  print('No discount')\n",
        "elif car_price < 2000000:\n",
        "  discount = car_price*0.95\n",
        "  print('5% of discount')\n",
        "elif car_price < 3000000:\n",
        "  discount = car_price*0.925\n",
        "  print('7.5% of discount')\n",
        "else:\n",
        "  discount = car_price*0.9\n",
        "  print('10% discount')\n"
      ],
      "metadata": {
        "colab": {
          "base_uri": "https://localhost:8080/"
        },
        "id": "VwKq792xKyXu",
        "outputId": "99e9f1d8-5e2e-4ffb-ed75-39a4e6cde11a"
      },
      "execution_count": null,
      "outputs": [
        {
          "output_type": "stream",
          "name": "stdout",
          "text": [
            "3000000\n",
            "10% discount\n"
          ]
        }
      ]
    },
    {
      "cell_type": "markdown",
      "source": [
        "## You and your friends are playing a board game where you roll a dice and move your game piece accordingly. However, you want to know the average number rolled by each player to see who's really the luckiest. Write a program that takes a list of rolls as input for each player and uses a for loop to calculate the average roll for each player. The winner gets bragging rights for being the luckiest!\n",
        "\n",
        "\n"
      ],
      "metadata": {
        "id": "QFad4dlHWjvx"
      }
    },
    {
      "cell_type": "markdown",
      "source": [
        "![dice-gif.gif](data:image/gif;base64,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)"
      ],
      "metadata": {
        "id": "xWD8uN8iBd7m"
      }
    },
    {
      "cell_type": "code",
      "source": [
        "player_rolls = [\n",
        "    [3, 5, 6, 2, 1],  # player 1's rolls\n",
        "    [4, 4, 6, 3, 2],  # player 2's rolls\n",
        "    [1, 5, 6, 6, 4]   # player 3's rolls\n",
        "] # list of a list"
      ],
      "metadata": {
        "id": "3-X0wqWCzuna"
      },
      "execution_count": null,
      "outputs": []
    },
    {
      "cell_type": "code",
      "source": [
        "new_players = []\n",
        "for i,player in enumerate(player_rolls):\n",
        "  lenght = len(player)\n",
        "  sums = sum(player)\n",
        "  new_players.append(sums/lenght)\n",
        "  print('The average of player',i+1, 'is', sum(player)/len(player))\n",
        "print('Maximum average is', max(new_players))\n"
      ],
      "metadata": {
        "id": "2Y9gP41ewxLM",
        "colab": {
          "base_uri": "https://localhost:8080/"
        },
        "outputId": "c6aaa272-1b19-460e-bdeb-1c74ec11c0cd"
      },
      "execution_count": null,
      "outputs": [
        {
          "output_type": "stream",
          "name": "stdout",
          "text": [
            "The average of player 1 is 3.4\n",
            "The average of player 2 is 3.8\n",
            "The average of player 3 is 4.4\n",
            "Maximum average is 4.4\n"
          ]
        }
      ]
    },
    {
      "cell_type": "markdown",
      "source": [
        "## Write a Python program that analyzes a list of names and sorts them into two categories: those that start with a vowel and those that start with a consonant. To achieve this, you'll use a nested loop and some basic conditional statements."
      ],
      "metadata": {
        "id": "VB0b9bivcyKL"
      }
    },
    {
      "cell_type": "code",
      "source": [
        "names = [\"Alice\", \"Bob\", \"Eve\", \"Charlie\", \"Ivy\", \"David\", \"Olivia\", \"Peter\"]\n"
      ],
      "metadata": {
        "id": "-tuXcVjceNDA"
      },
      "execution_count": null,
      "outputs": []
    },
    {
      "cell_type": "code",
      "source": [
        "#names = [\"Alice\", \"Bob\", \"Eve\", \"Charlie\", \"Ivy\", \"David\", \"Olivia\", \"Peter\"]\n",
        "vowel = []\n",
        "consonant = []\n",
        "for name in names:\n",
        "    if name[0] in 'aeiouAEIOU':\n",
        "      vowel.append(name)\n",
        "    else:\n",
        "      consonant.append(name)\n",
        "print(vowel)\n",
        "print(consonant)"
      ],
      "metadata": {
        "colab": {
          "base_uri": "https://localhost:8080/"
        },
        "id": "Mx98miZnLiSi",
        "outputId": "7a966069-d2a7-4df8-e09d-2ff5ec732352"
      },
      "execution_count": null,
      "outputs": [
        {
          "output_type": "stream",
          "name": "stdout",
          "text": [
            "['Alice', 'Eve', 'Ivy', 'Olivia']\n",
            "['Bob', 'Charlie', 'David', 'Peter']\n"
          ]
        }
      ]
    },
    {
      "cell_type": "markdown",
      "source": [
        "## You are a teacher and you have a dictionary containing the grades of your students in a particular subject. The keys of the dictionary are the names of the students, and the values are their respective grades. You need to find the students who scored above 90% and print out their names."
      ],
      "metadata": {
        "id": "-8hkwqg8m8wN"
      }
    },
    {
      "cell_type": "code",
      "source": [
        "# Define the grades dictionary\n",
        "grades = {\n",
        "    'Alice': 85,\n",
        "    'Bob': 92,\n",
        "    'Charlie': 88,\n",
        "    'David': 95,\n",
        "    'Emily': 78,\n",
        "    'Frank': 91\n",
        "}\n",
        "\n",
        "# Write Your Code Here\n",
        "for name,grade in grades.items():\n",
        "  if grade > 90:\n",
        "    print(\"Student's scored above 90 - \",name,grade)"
      ],
      "metadata": {
        "id": "FB2JqhT_nYSe",
        "colab": {
          "base_uri": "https://localhost:8080/"
        },
        "outputId": "58c9cdce-a2e3-4d46-a903-e68d8831a7f5"
      },
      "execution_count": null,
      "outputs": [
        {
          "output_type": "stream",
          "name": "stdout",
          "text": [
            "Student's scored above 90 -  Bob 92\n",
            "Student's scored above 90 -  David 95\n",
            "Student's scored above 90 -  Frank 91\n"
          ]
        }
      ]
    },
    {
      "cell_type": "markdown",
      "source": [
        "## You're given a nested list of numbers, and your task is to count the number of odd and even numbers in the list. To achieve this, you'll use a nested loop and some basic conditional statements.\n",
        "\n",
        "List - numbers = [\n",
        "    [2, 5, 11, 20, 8],\n",
        "    [9, 4, 15, 28, 17],\n",
        "    [1, 6, 21, 18, 3],\n",
        "    [10, 13, 25, 33, 30],\n",
        "    [14, 7, 16, 19, 22]\n",
        "]"
      ],
      "metadata": {
        "id": "zr6auy0z5TvR"
      }
    },
    {
      "cell_type": "code",
      "source": [
        "# List of numbers\n",
        "numbers = [\n",
        "    [2, 5, 11, 20, 8],\n",
        "    [9, 4, 15, 28, 17],\n",
        "    [1, 6, 21, 18, 3],\n",
        "    [10, 13, 25, 33, 30],\n",
        "    [14, 7, 16, 19, 22]\n",
        "]\n",
        "\n",
        "# Your code here:\n",
        "even = 0\n",
        "odd = 0\n",
        "for li in numbers:\n",
        "  for num in li:\n",
        "    if num % 2 ==0:\n",
        "      even +=1\n",
        "    else:\n",
        "      odd +=1\n",
        "\n",
        "print(even)\n",
        "print(odd)"
      ],
      "metadata": {
        "colab": {
          "base_uri": "https://localhost:8080/"
        },
        "id": "H3M7uwl_LtXj",
        "outputId": "c434c061-587b-48ef-d992-dd4f280308c3"
      },
      "execution_count": null,
      "outputs": [
        {
          "output_type": "stream",
          "name": "stdout",
          "text": [
            "12\n",
            "13\n"
          ]
        }
      ]
    },
    {
      "cell_type": "markdown",
      "source": [
        "## Imagine you're organizing a chess tournament 🏆, where each player has to play against every other player. To achieve this, you can use nested loops in Python! Nested loops are simply loops within loops, and they come in handy when you need to perform tasks involving multiple levels of iteration.\n",
        "\n",
        "In Python, you can nest 'for' loops, 'while' loops, or even a combination of both. Let's take a closer look at how nested loops work using our chess tournament scenario:"
      ],
      "metadata": {
        "id": "zqZRSProCrKH"
      }
    },
    {
      "cell_type": "code",
      "source": [
        "# Write Your Code Here\n",
        "players = ['Alice', 'Bob', 'Charlie', 'Diana']\n",
        "for i in range(len(players)):\n",
        "  for j in range(i+1,len(players)):\n",
        "    print(players[i],players[j])"
      ],
      "metadata": {
        "id": "2X6rmjkWGbUu",
        "colab": {
          "base_uri": "https://localhost:8080/"
        },
        "outputId": "c42ee64b-2052-4d27-af52-4bc657e6a814"
      },
      "execution_count": null,
      "outputs": [
        {
          "output_type": "stream",
          "name": "stdout",
          "text": [
            "Alice Bob\n",
            "Alice Charlie\n",
            "Alice Diana\n",
            "Bob Charlie\n",
            "Bob Diana\n",
            "Charlie Diana\n"
          ]
        }
      ]
    },
    {
      "cell_type": "markdown",
      "source": [
        "## **Building a Simple Calculator**\n",
        "\n",
        "In this activity, you will build a simple calculator using conditional looping in Python. The calculator will ask the user for two numbers and an operation (addition, subtraction, multiplication, or division), and then perform the operation on the two numbers."
      ],
      "metadata": {
        "id": "bORtEvsst-Hi"
      }
    },
    {
      "cell_type": "code",
      "source": [
        "# Write code here\n",
        "while True:\n",
        "  num1 = int(input('Enter the number 1: '))\n",
        "  num2 = int(input('Enter the number 2: '))\n",
        "  operation = input('Enter the operation (+,-,*,/): ').lower()\n",
        "\n",
        "  if operation == '+' or operation == 'addition':\n",
        "    Answer = num1+num2\n",
        "    print(Answer)\n",
        "    break\n",
        "  elif operation == '-' or operation == 'substraction':\n",
        "    Answer = num1 - num2\n",
        "    print(Answer)\n",
        "    break\n",
        "  elif operation == '*' or operation == 'multiplication':\n",
        "    Answer = num1*num2\n",
        "    print(Answer)\n",
        "    break\n",
        "  elif operation == '/' or operation =='division':\n",
        "    if num2 > 0:\n",
        "      Answer = num1/num2\n",
        "      print(Answer)\n",
        "      break\n",
        "    else:\n",
        "      print('Cannot divide by zero')\n",
        "  else:\n",
        "    print('Enter the correct operation')\n"
      ],
      "metadata": {
        "id": "Ushzbz-RuqxV",
        "colab": {
          "base_uri": "https://localhost:8080/"
        },
        "outputId": "e6a79b69-ff97-4ad6-85a6-7f904745f622"
      },
      "execution_count": null,
      "outputs": [
        {
          "output_type": "stream",
          "name": "stdout",
          "text": [
            "Enter the number 1: 3\n",
            "Enter the number 2: 4\n",
            "Enter the operation (+,-,*,/): *\n",
            "12\n"
          ]
        }
      ]
    },
    {
      "cell_type": "markdown",
      "source": [
        "## **Building a Guessing Game**\n",
        "\n",
        "In this activity, you will build a simple guessing game using conditional looping in Python. The game will generate a random number between 1 and 100, and the user will have to guess the number within a certain number of tries. The program will provide hints to the user after each guess, telling them whether their guess is too high or too low."
      ],
      "metadata": {
        "id": "BdL16-CWuLGr"
      }
    },
    {
      "cell_type": "code",
      "source": [
        "import random\n",
        "\n",
        "# Generate a random number between 1 and 100\n",
        "secret_number = random.randint(1, 100)\n",
        "\n",
        "# Write code here\n",
        "tries = 5\n",
        "count = 0\n",
        "while count < tries:\n",
        "  guess_num = int(input('Guess the number between (1 to 100) - '))\n",
        "  count += 1\n",
        "  if count == 4:\n",
        "    print('You have only one chance left')\n",
        "  if guess_num == secret_number:\n",
        "    print('Congratulation, You guess the correct number.')\n",
        "    break\n",
        "  elif guess_num < secret_number:\n",
        "    print('Guess the higher number.')\n",
        "  elif guess_num > secret_number:\n",
        "    print('Guess the lower number.')\n",
        "\n",
        "if count == 5:\n",
        "    print('Sorry, you missed the chance. The secret number was',secret_number)"
      ],
      "metadata": {
        "colab": {
          "base_uri": "https://localhost:8080/"
        },
        "id": "efrLAAaoMpX9",
        "outputId": "4e559e73-6023-47f1-f710-55748ce810bb"
      },
      "execution_count": null,
      "outputs": [
        {
          "output_type": "stream",
          "name": "stdout",
          "text": [
            "Guess the number between (1 to 100) - 56\n",
            "Guess the higher number.\n",
            "Guess the number between (1 to 100) - 89\n",
            "Guess the lower number.\n",
            "Guess the number between (1 to 100) - 90\n",
            "Guess the lower number.\n",
            "Guess the number between (1 to 100) - 99\n",
            "You have only one chance left\n",
            "Guess the lower number.\n",
            "Guess the number between (1 to 100) - 55\n",
            "Guess the higher number.\n",
            "Sorry, you missed the chance. The secret number was 66\n"
          ]
        }
      ]
    },
    {
      "cell_type": "markdown",
      "source": [
        "## **Building a Fibonacci Sequence Generator**\n",
        "\n",
        "In this activity, you will build a program that generates a Fibonacci sequence using conditional looping in Python. The Fibonacci sequence is a series of numbers in which each number is the sum of the two preceding numbers. The sequence starts with 0 and 1, and the next number in the sequence is the sum of the previous two numbers."
      ],
      "metadata": {
        "id": "CxWXvkMLuVys"
      }
    },
    {
      "cell_type": "code",
      "source": [
        "# Write code here\n",
        "num = int(input())\n",
        "term1 = 0\n",
        "term2 = 1\n",
        "\n",
        "if num <= 0:\n",
        "  print('Enter the valid number')\n",
        "elif num == 1:\n",
        "  print(term1)\n",
        "else:\n",
        "  print(f'Fibonacci sereies till {num} term')\n",
        "  count = 2\n",
        "  print(f\"{term1},{term2}\",end = ',')\n",
        "  while count < num:\n",
        "    next_term = term1+term2\n",
        "    print(next_term,end = ',')\n",
        "    next_term = term1+term2\n",
        "    term1 = term2\n",
        "    term2 = next_term\n",
        "    count +=1\n"
      ],
      "metadata": {
        "id": "sZhucS5rwLk0",
        "colab": {
          "base_uri": "https://localhost:8080/"
        },
        "outputId": "8ea3c9bd-c179-457a-f6aa-c2f90f23dd03"
      },
      "execution_count": null,
      "outputs": [
        {
          "output_type": "stream",
          "name": "stdout",
          "text": [
            "8\n",
            "Fibonacci sereies till 8 term\n",
            "0,1,1,2,3,5,8,13,"
          ]
        }
      ]
    },
    {
      "cell_type": "markdown",
      "source": [
        "## **Counting the Digit**\n",
        "\n",
        "You have been given a task to write a Python program that counts the number of times a specific digit appears in a range of numbers. You need to use a for loop to iterate over the range of numbers, and a while loop to check each digit in the number."
      ],
      "metadata": {
        "id": "bxxR7TtBugpK"
      }
    },
    {
      "cell_type": "markdown",
      "source": [
        "Example:\n",
        "\n",
        "* Enter start number: 100\n",
        "* Enter end number: 150\n",
        "* Enter digit to count: 5\n",
        "* The digit 5 appears 6 times between 100 and 150.\n"
      ],
      "metadata": {
        "id": "-oo68QaIdoL6"
      }
    },
    {
      "cell_type": "code",
      "source": [
        "# Write code here\n",
        "\n",
        "start_digit = 100\n",
        "end_digit = 150\n",
        "digit_count = 5\n",
        "count = 0\n",
        "\n",
        "for i in range(start_digit,end_digit+1):\n",
        "  string_digit = str(i)\n",
        "  index = 0\n",
        "  while index<len(string_digit):\n",
        "    if int(string_digit[index]) == (digit_count):\n",
        "      count +=1\n",
        "    index +=1\n",
        "print('The number 5 is appears',count,'times in a range of',start_digit,'to',end_digit)"
      ],
      "metadata": {
        "id": "uhS0_Btxc59A",
        "colab": {
          "base_uri": "https://localhost:8080/"
        },
        "outputId": "71573514-8f05-4113-c94e-0a47f98d202a"
      },
      "execution_count": null,
      "outputs": [
        {
          "output_type": "stream",
          "name": "stdout",
          "text": [
            "The number 5 is appears 6 times in a range of 100 to 150\n"
          ]
        }
      ]
    },
    {
      "cell_type": "markdown",
      "source": [
        "# **Custom Functions in Python**"
      ],
      "metadata": {
        "id": "gjRKFGWFIrPu"
      }
    },
    {
      "cell_type": "markdown",
      "source": [
        "## **Building a Calculator**\n",
        "\n",
        "\n",
        "In this activity, we will create a custom function in Python to build a calculator that can perform basic arithmetic operations such as addition, subtraction, multiplication, and division."
      ],
      "metadata": {
        "id": "5oJRi3Mv1MuD"
      }
    },
    {
      "cell_type": "markdown",
      "source": [
        "**💻 Code:**"
      ],
      "metadata": {
        "id": "etkfY4lA8iRg"
      }
    },
    {
      "cell_type": "code",
      "execution_count": null,
      "metadata": {
        "id": "L5nnlASM1JfV"
      },
      "outputs": [],
      "source": [
        "# Define a function called calculator that takes three arguments: num1, num2, and operation\n",
        "def Calculator(num1,num2,operation):\n",
        "  try:\n",
        "    if operation == '+' or operation == 'addition':\n",
        "      result = num1+num2\n",
        "    elif operation == '-' or operation == 'substraction':\n",
        "      result = num1-num2\n",
        "    elif operation == '*' or operation == 'multiplication':\n",
        "      result = num1*num2\n",
        "    elif operation == '/' or operation == 'division':\n",
        "      if num2 > 0:\n",
        "        result = num1/num2\n",
        "      else:\n",
        "        print('Second number should be greater than zero')\n",
        "    else:\n",
        "      print('Invalid operation')\n",
        "\n",
        "    return result\n",
        "\n",
        "  except ZeroDivisionError:\n",
        "    return 'Cannot divide by zero'\n",
        "  except UnboundLocalError:\n",
        "    print('')"
      ]
    },
    {
      "cell_type": "markdown",
      "source": [
        "**🧪 Test Code:**"
      ],
      "metadata": {
        "id": "OXMHdeOH9EuG"
      }
    },
    {
      "cell_type": "code",
      "source": [
        "# Test the calculator function\n",
        "num1 = int(input('Enter the first number: '))\n",
        "num2 = int(input('Enter the second number: '))\n",
        "operation = input('Enter the operation: ')\n",
        "Calculator(num1,num2,operation)\n"
      ],
      "metadata": {
        "id": "woikfzcB1j-S",
        "colab": {
          "base_uri": "https://localhost:8080/"
        },
        "outputId": "85a864c9-e522-4c98-e334-9a8bb9c710d8"
      },
      "execution_count": null,
      "outputs": [
        {
          "name": "stdout",
          "output_type": "stream",
          "text": [
            "Enter the first number: 5\n",
            "Enter the second number: 5\n",
            "Enter the operation: *\n"
          ]
        },
        {
          "output_type": "execute_result",
          "data": {
            "text/plain": [
              "25"
            ]
          },
          "metadata": {},
          "execution_count": 80
        }
      ]
    },
    {
      "cell_type": "markdown",
      "source": [
        "## **Dice Rolling** 🎲\n",
        "\n",
        "Roll a dice and display the result. 🎲"
      ],
      "metadata": {
        "id": "bFFQSaSN3ymq"
      }
    },
    {
      "cell_type": "code",
      "source": [
        "def roll_dice(number):\n",
        "  import random\n",
        "  number=random.randint(1,6)\n",
        "  return number\n",
        "number = 0\n",
        "print(f'The result is {roll_dice(number)}')"
      ],
      "metadata": {
        "colab": {
          "base_uri": "https://localhost:8080/"
        },
        "id": "NMnvskIyOJgA",
        "outputId": "33438cc9-b45d-4554-98c7-74adb7479360"
      },
      "execution_count": null,
      "outputs": [
        {
          "output_type": "stream",
          "name": "stdout",
          "text": [
            "The result is 1\n"
          ]
        }
      ]
    },
    {
      "cell_type": "markdown",
      "source": [
        "## **Celsius to Fahrenheit Converter**\n",
        "\n",
        "Create a custom function that takes in a temperature in Celsius and returns the temperature in Fahrenheit.\n",
        "\n",
        "**For example**: If the input temperature is 20 degrees Celsius, the output temperature should be 68 degrees Fahrenheit.\n"
      ],
      "metadata": {
        "id": "XB3M38js4r8r"
      }
    },
    {
      "cell_type": "code",
      "source": [
        "# Define a function to convert celsius to fahrenheit\n",
        "def farenhite(celsius):\n",
        "  Fahrenheit = (celsius * 9/5) + 32\n",
        "  return (f'The temperatur of {celsius} Celsius is {Fahrenheit} fahrenheit')\n",
        "\n",
        "\n",
        "# Example usage\n",
        "Celsius = int(input())\n",
        "print(farenhite(Celsius))"
      ],
      "metadata": {
        "id": "AG3AA-1n4p5r",
        "colab": {
          "base_uri": "https://localhost:8080/"
        },
        "outputId": "ada86f40-8995-4e7b-dc9c-4d75d94b52c3"
      },
      "execution_count": null,
      "outputs": [
        {
          "output_type": "stream",
          "name": "stdout",
          "text": [
            "20\n",
            "The temperatur of 20 Celsius is 68.0 fahrenheit\n"
          ]
        }
      ]
    },
    {
      "cell_type": "markdown",
      "source": [
        "## **Sum odd Numbers** ➖\n",
        "\n",
        "In this activity, you will create a custom function in Python that takes a list of integers as an argument and returns the sum of all odd numbers in the list."
      ],
      "metadata": {
        "id": "f38kTkX-6DR4"
      }
    },
    {
      "cell_type": "code",
      "source": [
        "# define sum_odd custom function\n",
        "def sum_l(li):\n",
        "  sum1 = 0\n",
        "  for i in li:\n",
        "    if i%2 != 0:\n",
        "      sum1 += i\n",
        "  return sum1"
      ],
      "metadata": {
        "id": "BfJMZFk75GP3"
      },
      "execution_count": null,
      "outputs": []
    },
    {
      "cell_type": "markdown",
      "source": [
        "**🧪 Test Code:**"
      ],
      "metadata": {
        "id": "6UGSjTv75-Qw"
      }
    },
    {
      "cell_type": "code",
      "source": [
        "# test here\n",
        "li = eval(input())\n",
        "print(sum_l(li))"
      ],
      "metadata": {
        "id": "7yyxAwOY5_fS",
        "colab": {
          "base_uri": "https://localhost:8080/"
        },
        "outputId": "31e8a3d1-74b3-4c0b-aacd-8d38983cc10a"
      },
      "execution_count": null,
      "outputs": [
        {
          "output_type": "stream",
          "name": "stdout",
          "text": [
            "[1,2,3,4,5,6]\n",
            "9\n"
          ]
        }
      ]
    },
    {
      "cell_type": "markdown",
      "source": [
        "🤖 Output should be in format:\n",
        "\n",
        "If the input is [1, 2, 3, 4, 5, 6], then the output should be 9"
      ],
      "metadata": {
        "id": "Pc5U7agP6_uJ"
      }
    },
    {
      "cell_type": "markdown",
      "source": [
        "# **Advanced Looping Concepts**"
      ],
      "metadata": {
        "id": "W80MJEP4IrWl"
      }
    },
    {
      "cell_type": "markdown",
      "source": [
        "## **Lambda Functions**\n",
        "\n",
        "🧑‍💻 You are working as a Python developer for a startup company that has just received a project from a client. The client wants a program that can perform certain operations on lists using lambda functions. Your manager has assigned you the task of finding the sum of squared odd numbers from the list.\n",
        "\n",
        "👉 Hint: You have to use filter, map and reduce functions to get the task done."
      ],
      "metadata": {
        "id": "q02nU6G56Gxh"
      }
    },
    {
      "cell_type": "code",
      "execution_count": null,
      "metadata": {
        "id": "zbzwgW7357yh",
        "colab": {
          "base_uri": "https://localhost:8080/"
        },
        "outputId": "52cd574a-d63f-41c0-877e-01de7b83f931"
      },
      "outputs": [
        {
          "output_type": "stream",
          "name": "stdout",
          "text": [
            "[1, 3, 5, 7, 9]\n",
            "[1, 9, 25, 49, 81]\n",
            "165\n"
          ]
        }
      ],
      "source": [
        "# Import reduce from functools module\n",
        "from functools import reduce\n",
        "\n",
        "# Create a list of numbers from 1 to 10\n",
        "numbers = list(range(1, 11))\n",
        "\n",
        "# Write your code here\n",
        "li = list(filter(lambda x:x%2 !=0,numbers))\n",
        "print(li)\n",
        "\n",
        "squared_odd = list(map(lambda x:x**2,li))\n",
        "print(squared_odd)\n",
        "\n",
        "sum = reduce(lambda x,y:x+y,squared_odd)\n",
        "print(sum)\n"
      ]
    },
    {
      "cell_type": "markdown",
      "source": [
        "## **Pizza Toppings**\n",
        "\n",
        "🍕🍔 You have two lists, one containing pizza toppings and the other containing burger toppings. You need to create a new list that contains all the toppings from both the pizza and burger toppings lists, but only if they have more than 5 characters in their name.\n",
        "\n",
        "Can you write the code to create a new list that contains all the toppings from both the pizza and burger toppings lists, but only if they have more than 5 characters in their name using list comprehension only?\n",
        "\n",
        "👉 Hint: You can use a conditional statement to check the length of each topping's name."
      ],
      "metadata": {
        "id": "26lox7n97hNf"
      }
    },
    {
      "cell_type": "code",
      "source": [
        "# Here are the example lists of toppings\n",
        "pizza_toppings = ['mushroom', 'olive', 'tomato', 'pepperoni', 'onion', 'garlic']\n",
        "burger_toppings = ['lettuce', 'cheese', 'mayonnaise', 'bacon', 'pickle', 'avocado']\n",
        "\n",
        "# Write your code here\n",
        "new_toppings = [(i) for i in pizza_toppings+burger_toppings if len(i)>5]\n",
        "new_toppings"
      ],
      "metadata": {
        "id": "_L80Blvu6beB",
        "colab": {
          "base_uri": "https://localhost:8080/"
        },
        "outputId": "82567e3c-ed9f-4d4a-ab6f-c74ad7a15a7c"
      },
      "execution_count": null,
      "outputs": [
        {
          "output_type": "execute_result",
          "data": {
            "text/plain": [
              "['mushroom',\n",
              " 'tomato',\n",
              " 'pepperoni',\n",
              " 'garlic',\n",
              " 'lettuce',\n",
              " 'cheese',\n",
              " 'mayonnaise',\n",
              " 'pickle',\n",
              " 'avocado']"
            ]
          },
          "metadata": {},
          "execution_count": 86
        }
      ]
    },
    {
      "cell_type": "markdown",
      "source": [
        "## **Sales Data**\n",
        "\n",
        "🌎🛍️ Suppose you work for a company that sells products in different countries. You have been given two lists: one containing the names of the countries where the company sells its products, and the other containing the sales data for each country. Your task is to create a dictionary where the keys are the country names, and the values are the corresponding sales data. However, the sales data should only include values that are greater than 1000. You are not allowed to use any loops, and must use list comprehension to solve the problem.\n",
        "\n",
        "Can you write the code to create the desired dictionary using list comprehension?\n",
        "\n",
        "👉 Hint: You can use zip function to create pairs of country and sales data from the two lists."
      ],
      "metadata": {
        "id": "RzZvjLHR75SA"
      }
    },
    {
      "cell_type": "code",
      "source": [
        "\n",
        "countries = [\"USA\", \"Canada\", \"Mexico\", \"Brazil\", \"UK\", \"France\", \"Germany\", \"China\", \"India\"]\n",
        "sales = [2500, 300, 1200, 800, 500, 2000, 4000, 1000, 1500]\n",
        "\n",
        "# Using zip function to create pairs of country name and sales data\n",
        "pairs = list(zip(countries, sales))\n",
        "\n",
        "# Creating a dictionary with country names as keys and sales data greater than 1000 as values\n",
        "sales_dict = {country: sale for country, sale in pairs if sale > 1000}\n",
        "\n",
        "print(sales_dict)"
      ],
      "metadata": {
        "id": "ih8qq03B70j-",
        "colab": {
          "base_uri": "https://localhost:8080/"
        },
        "outputId": "6e85dc3e-959d-4d42-9b2e-5a0018ea9610"
      },
      "execution_count": null,
      "outputs": [
        {
          "output_type": "stream",
          "name": "stdout",
          "text": [
            "{'USA': 2500, 'Mexico': 1200, 'France': 2000, 'Germany': 4000, 'India': 1500}\n"
          ]
        }
      ]
    },
    {
      "cell_type": "markdown",
      "source": [
        "## **Stock Filtering**\n",
        "\n",
        "📊📈 Suppose you are working for a company that deals with financial data. You have been given a list of dictionaries, where each dictionary contains the following information about a stock: name, ticker symbol, price, and percentage change in price. Your task is to create a new list of dictionaries, where each dictionary contains only the name and price of the stock, but only for those stocks where the price is greater than 100 and the percentage change is positive. You must use list comprehension to solve the problem.\n",
        "\n",
        "Can you write the code to create the desired list of dictionaries using list comprehension?\n",
        "\n",
        "👉 Hint: You can use conditional statements to check if the price is greater than 100 and the percentage change is positive in the list comprehension."
      ],
      "metadata": {
        "id": "sBvyWOQv8KqP"
      }
    },
    {
      "cell_type": "code",
      "source": [
        "# Here is an example of the list of dictionaries\n",
        "stocks = [\n",
        "    {'name': 'Apple Inc.', 'ticker': 'AAPL', 'price': 120.0, 'change': 0.05},\n",
        "    {'name': 'Microsoft Corporation', 'ticker': 'MSFT', 'price': 95.0, 'change': -0.02},\n",
        "    {'name': 'Amazon.com, Inc.', 'ticker': 'AMZN', 'price': 250.0, 'change': 0.1},\n",
        "    {'name': 'Alphabet Inc.', 'ticker': 'GOOGL', 'price': 110.0, 'change': 0.02},\n",
        "    {'name': 'Facebook, Inc.', 'ticker': 'FB', 'price': 80.0, 'change': 0.03}\n",
        "]\n",
        "\n",
        "#creat new list of dictionary where each dictionary contain name & price stock : stock price > 100 and change +\n",
        "\n",
        "new_stock = [{'name':stock['name'],'price':stock['price']} for stock in stocks if stock['price']>100 and stock['change']>0]\n"
      ],
      "metadata": {
        "id": "pT6d0-9M8JJ8"
      },
      "execution_count": null,
      "outputs": []
    },
    {
      "cell_type": "code",
      "source": [
        "new_stock"
      ],
      "metadata": {
        "colab": {
          "base_uri": "https://localhost:8080/"
        },
        "id": "1uBEkCtWpw7K",
        "outputId": "5b6480a3-820f-455f-9104-99b9773ff89a"
      },
      "execution_count": null,
      "outputs": [
        {
          "output_type": "execute_result",
          "data": {
            "text/plain": [
              "[{'name': 'Apple Inc.', 'price': 120.0},\n",
              " {'name': 'Amazon.com, Inc.', 'price': 250.0},\n",
              " {'name': 'Alphabet Inc.', 'price': 110.0}]"
            ]
          },
          "metadata": {},
          "execution_count": 96
        }
      ]
    },
    {
      "cell_type": "markdown",
      "source": [
        "## **Duplicate Songs**\n",
        "\n",
        "🎵🎶 You have a list of songs that you like to listen to, but you notice that some of the songs have duplicate names. You want to create a new set that contains the unique names of all the songs and keep the songs whose name doesn't start with \"S\" and doesn't end with \"n\" in your list using set comprehension.\n",
        "\n",
        "Can you write the code to create a new set that contains the unique names of all the songs in your list using set comprehension only?\n",
        "\n",
        "👉 Hint: Set comprehension is similar to list comprehension, but with curly braces {} instead of square brackets []."
      ],
      "metadata": {
        "id": "Gm_824J28kwx"
      }
    },
    {
      "cell_type": "code",
      "source": [
        "# Here's an example list of songs\n",
        "songs = ['Bohemian Rhapsody', 'Stairway to Heaven', 'Bohemian Rhapsody', 'Hotel California', 'November Rain', 'Stairway to Heaven', 'Sweet Child O\\' Mine']\n",
        "\n",
        "# Write your code here\n",
        "new_songs = {song for song in songs}\n",
        "print(new_songs)\n",
        "song = {i for i in new_songs if i[0]!='S' or i[-1]!='n'}  #if song name start with 'S' or song name end with 'n' - if anyone condition is true\n",
        "print(song)\n",
        "\n",
        "song1 = {i for i in new_songs if i[0]!='S' and i[-1]!='n'}  #if song name start with 'S' and song name end with 'n' - if both condition is true\n",
        "print(song1)"
      ],
      "metadata": {
        "id": "1RR_E-kM8hRt",
        "colab": {
          "base_uri": "https://localhost:8080/"
        },
        "outputId": "77a51d3f-45dd-4e0e-fce8-9cc61b39a1ac"
      },
      "execution_count": null,
      "outputs": [
        {
          "output_type": "stream",
          "name": "stdout",
          "text": [
            "{'November Rain', 'Hotel California', 'Stairway to Heaven', \"Sweet Child O' Mine\", 'Bohemian Rhapsody'}\n",
            "{\"Sweet Child O' Mine\", 'Bohemian Rhapsody', 'November Rain', 'Hotel California'}\n",
            "{'Bohemian Rhapsody', 'Hotel California'}\n"
          ]
        }
      ]
    },
    {
      "cell_type": "markdown",
      "source": [
        "# **OOPs in Python**"
      ],
      "metadata": {
        "id": "HC2V6Rf0Ircs"
      }
    },
    {
      "cell_type": "markdown",
      "source": [
        "## **Building a Simple Calculator** 🧮🔢\n",
        "\n",
        "\n",
        "In this activity, you will build a simple calculator program in Python using Object-Oriented Programming (OOP) concepts."
      ],
      "metadata": {
        "id": "wi0GGVc-l-iH"
      }
    },
    {
      "cell_type": "code",
      "source": [
        "# Define a simple calculator class\n",
        "class Calculator():\n",
        "  def __init__(self,num1,operation,num2):\n",
        "    self.num1 = num1\n",
        "    self.num2 = num2\n",
        "    self.operation = operation\n",
        "  def calculator(self):\n",
        "    if self.operation == '+' or self.operation == 'addition':\n",
        "      result = self.num1+self.num2\n",
        "      return result\n",
        "    elif self.operation == '-' or self.operation == 'subtraction':\n",
        "      result = self.num1 - self.num2\n",
        "      return result\n",
        "    elif self.operation == '*' or self.operation == 'multiplication':\n",
        "      result = self.num1*self.num2\n",
        "      return result\n",
        "    elif self.operation == '/' or self.operation == 'division':\n",
        "      if self.num2==0:\n",
        "        raise ZeroDivisionError ('Cannot divide by zero')\n",
        "      result = self.num1/self.num2\n",
        "      return result\n",
        "\n",
        "    else:\n",
        "      return 'Enter the valid operation'\n"
      ],
      "metadata": {
        "id": "zphxebyom5IQ"
      },
      "execution_count": null,
      "outputs": []
    },
    {
      "cell_type": "code",
      "source": [
        "# Test Case\n",
        "num1 = int(input('Enter the 1st number: '))\n",
        "operation = input('Enter the operation (+,-,*,/): ')\n",
        "num2 = int(input('Enter the 2nd number: '))\n",
        "calci = Calculator(num1,operation,num2)\n",
        "calci.calculator()\n"
      ],
      "metadata": {
        "id": "rKnQSAlpsdx0",
        "colab": {
          "base_uri": "https://localhost:8080/"
        },
        "outputId": "ea6cdd6d-5d64-4a33-c4fd-a84ac13d693b"
      },
      "execution_count": null,
      "outputs": [
        {
          "name": "stdout",
          "output_type": "stream",
          "text": [
            "Enter the 1st number: 3\n",
            "Enter the operation (+,-,*,/): -\n",
            "Enter the 2nd number: 1\n"
          ]
        },
        {
          "output_type": "execute_result",
          "data": {
            "text/plain": [
              "2"
            ]
          },
          "metadata": {},
          "execution_count": 99
        }
      ]
    },
    {
      "cell_type": "markdown",
      "source": [
        "## 🏀**Basketball Game Score Tracker**📈\n",
        "\n",
        "Create a class that will keep track of the score of a basketball game. The class should have methods for updating the score and printing the current score."
      ],
      "metadata": {
        "id": "3IigXP8Ir4Yq"
      }
    },
    {
      "cell_type": "code",
      "source": [
        "# Create BasketballGame class\n",
        "class BasketballGame:\n",
        "    def __init__(self):\n",
        "        self.team1_score = 0\n",
        "        self.team2_score = 0\n",
        "\n",
        "    def update_score_team1(self, points):\n",
        "        self.team1_score += points\n",
        "\n",
        "    def update_score_team2(self, points):\n",
        "        self.team2_score += points\n",
        "\n",
        "    def print_score(self):\n",
        "        print(f\"Team 1 Score: {self.team1_score}\")\n",
        "        print(f\"Team 2 Score: {self.team2_score}\")\n",
        "\n",
        "# Testing the class\n",
        "game = BasketballGame()\n",
        "\n",
        "game.update_score_team1(2)\n",
        "game.update_score_team2(3)\n",
        "game.update_score_team1(3)\n",
        "game.update_score_team2(2)\n",
        "\n",
        "game.print_score()\n"
      ],
      "metadata": {
        "id": "op236YgFsjA7",
        "colab": {
          "base_uri": "https://localhost:8080/"
        },
        "outputId": "14293b5d-93e3-4903-bf28-94a5f27e6e86"
      },
      "execution_count": null,
      "outputs": [
        {
          "output_type": "stream",
          "name": "stdout",
          "text": [
            "Team 1 Score: 5\n",
            "Team 2 Score: 5\n"
          ]
        }
      ]
    },
    {
      "cell_type": "markdown",
      "source": [
        "## 🎨 **Paint Brush Class** 🖌️\n",
        "\n",
        "Create a Python class for a paint brush that has the following properties:\n",
        "\n",
        "* Size (small, medium, or large)\n",
        "* Color (red, blue, green, or yellow)\n",
        "* Brand (Winsor & Newton, Liquitex, or Grumbacher)\n",
        "* Type (round or flat)\n"
      ],
      "metadata": {
        "id": "VwvhqW59s8-7"
      }
    },
    {
      "cell_type": "code",
      "source": [
        "# Define PaintBrush Class\n",
        "class PaintBrush():\n",
        "  def __init__(self, Size, Color, Brand, brush_Type):\n",
        "    self.Size = Size\n",
        "    self.Color = Color\n",
        "    self.Brand = Brand\n",
        "    self.brush_Type = brush_Type\n",
        "\n",
        "  def paint(self):\n",
        "    print(f'Brush Size: {self.Size}')\n",
        "    print(f'Brush Color : {self.Color}')\n",
        "    print(f'Brush Brand: {self.Brand}')\n",
        "    print(f'Brush Type: {self.brush_Type}')\n"
      ],
      "metadata": {
        "id": "YZ8JOqPotDM7"
      },
      "execution_count": null,
      "outputs": []
    },
    {
      "cell_type": "code",
      "source": [
        "# Test Case\n",
        "Brush = PaintBrush(Size = 'Medium',Color = 'Red',Brand = 'Winsor & Newton',brush_Type = 'Round')\n",
        "\n",
        "Brush.paint()"
      ],
      "metadata": {
        "id": "jMo7hRI4tQhU",
        "colab": {
          "base_uri": "https://localhost:8080/"
        },
        "outputId": "8b2765f2-d358-4704-ed06-67879b62bba3"
      },
      "execution_count": null,
      "outputs": [
        {
          "output_type": "stream",
          "name": "stdout",
          "text": [
            "Brush Size: Medium\n",
            "Brush Color : Red\n",
            "Brush Brand: Winsor & Newton\n",
            "Brush Type: Round\n"
          ]
        }
      ]
    },
    {
      "cell_type": "markdown",
      "source": [
        "## **Bank Account Management System** 💻🏦\n",
        "\n",
        "Create a Bank Account Management System using Object-Oriented Programming (OOPs) in Python. The system should allow users to create and manage bank accounts, deposit and withdraw funds, and view account details."
      ],
      "metadata": {
        "id": "ARKS5oEitsVt"
      }
    },
    {
      "cell_type": "code",
      "source": [
        "# Define a BankAccount class\n",
        "class BankAccount:\n",
        "  def __init__(self,Name,Account_number,Balance):\n",
        "    self.name = Name\n",
        "    self.account_number = Account_number\n",
        "    self.balance = Balance\n",
        "\n",
        "  def deposit(self,amount):\n",
        "    print(f'Previews Balance is : {self.balance} Rs')\n",
        "    self.balance += amount\n",
        "    print(f\"Current Balance is : {self.balance} Rs\")\n",
        "\n",
        "  def withdraw(self,amount):\n",
        "    if amount > self.balance:\n",
        "      print('Your balance is less than the amount you want to withdraw')\n",
        "      print(f'Your Current balance is {self.balance} Rs')\n",
        "    else:\n",
        "      self.balance -= amount\n",
        "      print(f'Current balance is : {self.balance} Rs')\n",
        "\n",
        "  def account_details(self):\n",
        "    print(f'Account Holder name: {self.name}')\n",
        "    print(f\"Account_number : {self.account_number}\")\n",
        "    print(f\"Total Balance: {self.balance} Rs\")\n"
      ],
      "metadata": {
        "id": "J3WL7qYjvIml"
      },
      "execution_count": null,
      "outputs": []
    },
    {
      "cell_type": "code",
      "source": [
        "# Test Case\n",
        "\n",
        "account = BankAccount('Sohel khatik',235345435,700)\n"
      ],
      "metadata": {
        "id": "mihs9I58w0AB"
      },
      "execution_count": null,
      "outputs": []
    },
    {
      "cell_type": "code",
      "source": [
        "account.deposit(900)"
      ],
      "metadata": {
        "colab": {
          "base_uri": "https://localhost:8080/"
        },
        "id": "XBTnwOrlVI-h",
        "outputId": "314aa708-7c2a-438e-8b3a-d97cf19d5285"
      },
      "execution_count": null,
      "outputs": [
        {
          "output_type": "stream",
          "name": "stdout",
          "text": [
            "Previews Balance is : 700 Rs\n",
            "Current Balance is : 1600 Rs\n"
          ]
        }
      ]
    },
    {
      "cell_type": "code",
      "source": [
        "account.withdraw(100)"
      ],
      "metadata": {
        "colab": {
          "base_uri": "https://localhost:8080/"
        },
        "id": "7bxmda1eVOOG",
        "outputId": "53b46454-e204-425d-bafe-984d2ec22864"
      },
      "execution_count": null,
      "outputs": [
        {
          "output_type": "stream",
          "name": "stdout",
          "text": [
            "Current balance is : 1500 Rs\n"
          ]
        }
      ]
    },
    {
      "cell_type": "code",
      "source": [
        "account.account_details()"
      ],
      "metadata": {
        "colab": {
          "base_uri": "https://localhost:8080/"
        },
        "id": "YTeuCbUwVSTe",
        "outputId": "9e1e5387-5a42-4dd4-b5e7-62f9f0c7eaec"
      },
      "execution_count": null,
      "outputs": [
        {
          "output_type": "stream",
          "name": "stdout",
          "text": [
            "Account Holder name: Sohel khatik\n",
            "Account_number : 235345435\n",
            "Total Balance: 1500 Rs\n"
          ]
        }
      ]
    },
    {
      "cell_type": "markdown",
      "source": [
        "# **Exception Handling**"
      ],
      "metadata": {
        "id": "Ym0esuHoIriH"
      }
    },
    {
      "cell_type": "markdown",
      "source": [
        "## **Sum of first n Natural Numbers**\n",
        "\n",
        "💻 Suppose you are working on a project that requires you to write a Python program that calculates the sum of the first n natural numbers. You wrote a program to solve the problem, but the code contains several errors that prevent it from executing properly. ❌\n",
        "\n",
        "Your task is to identify and rectify the errors in the code and write the correct program. 🛠️"
      ],
      "metadata": {
        "id": "7X3Rz0V8HgfP"
      }
    },
    {
      "cell_type": "markdown",
      "source": [
        "![Sum-of-natural-numbers.png](data:image/png;base64,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)"
      ],
      "metadata": {
        "id": "OoDyvIuONaE4"
      }
    },
    {
      "cell_type": "code",
      "source": [
        "# Code with errors\n",
        "n = input(\"Enter a number: \")\n",
        "sum = 0\n",
        "for i in range(0, n+1):\n",
        "  sum = sum + i\n",
        "print(\"The sum of the first\", n, \"natural numbers is\", sum"
      ],
      "metadata": {
        "id": "xC9LupdhVn4P"
      },
      "execution_count": null,
      "outputs": []
    },
    {
      "cell_type": "code",
      "source": [
        "\n",
        "# Write your code here\n",
        "# Code with errors\n",
        "n = int(input(\"Enter a number: \")) #added int function before input\n",
        "sum = 0\n",
        "for i in range(0, n+1):\n",
        "  sum = sum + i\n",
        "print(\"The sum of the first\", n, \"natural numbers is\", sum) #added parenthisis"
      ],
      "metadata": {
        "id": "Gx1ZJKgWLDCf",
        "colab": {
          "base_uri": "https://localhost:8080/"
        },
        "outputId": "5fad2939-c731-4cc1-cd5e-4dd49d16681b"
      },
      "execution_count": null,
      "outputs": [
        {
          "output_type": "stream",
          "name": "stdout",
          "text": [
            "Enter a number: 5\n",
            "The sum of the first 5 natural numbers is 15\n"
          ]
        }
      ]
    },
    {
      "cell_type": "markdown",
      "source": [
        "## **Average Temperature** 🌡️🌡️\n",
        "\n",
        "You have been given a task to develop a program that calculates the average temperature 🌡️ of a city 🏢 for a given week. You have written a program to solve the problem, but there seems to be some logical errors that are causing the program to output incorrect results. You are provided with two sets of weekly temperatures and need to find the average of each individual week.\n",
        "\n",
        "Your task is to identify and rectify the logical errors in the code and write the correct program."
      ],
      "metadata": {
        "id": "yLGJGYS6I3Wh"
      }
    },
    {
      "cell_type": "code",
      "source": [
        "temperatures_w1 = [32, 34, 31, 30, 29, 28, 33]\n",
        "temperatures_w2 = [31, 34, 35, 28, 29]"
      ],
      "metadata": {
        "id": "xo2rP_fLV2qi"
      },
      "execution_count": null,
      "outputs": []
    },
    {
      "cell_type": "code",
      "source": [
        "sum = 0\n",
        "\n",
        "for temp in temperatures_w1:\n",
        "  sum += temp\n",
        "  avg = sum / len(temperatures_w1)\n",
        "print(avg)\n",
        "\n",
        "sum = 0\n",
        "for i in temperatures_w2:\n",
        "  sum += i\n",
        "  avg = sum/len(temperatures_w2)\n",
        "print(avg)\n"
      ],
      "metadata": {
        "id": "g0bm4yDDI2yW",
        "colab": {
          "base_uri": "https://localhost:8080/"
        },
        "outputId": "3e077d0d-a47a-4655-86ad-1f2babb97e6d"
      },
      "execution_count": null,
      "outputs": [
        {
          "output_type": "stream",
          "name": "stdout",
          "text": [
            "31.0\n",
            "31.4\n"
          ]
        }
      ]
    },
    {
      "cell_type": "markdown",
      "source": [
        "## **Handle that Error!** ❌❌\n",
        "\n",
        "You are developing a Python program that requires user input. You want to make sure that your program doesn't crash due to invalid user input or unexpected errors 🛑. You have heard about exception handling in Python and want to implement it in your program to handle errors gracefully.\n",
        "\n",
        "Your task is to implement exception handling in your program to handle invalid user input and unexpected errors."
      ],
      "metadata": {
        "id": "r04OSlnDLKj3"
      }
    },
    {
      "cell_type": "code",
      "source": [
        "# Write your code here\n",
        "try:\n",
        "  num1 = int(input(\"Enter the first number: \"))\n",
        "  num2 = int(input(\"Enter the second number: \"))\n",
        "\n",
        "  result = num1/num2\n",
        "  print(\"The result is: \", result)\n",
        "except ZeroDivisionError:\n",
        "    print('Cannot divide by zero')\n",
        "except ValueError:\n",
        "  print('Invalid input, Enter the numeric value')\n",
        "except Exception:\n",
        "  print('There is some error')"
      ],
      "metadata": {
        "id": "1UPr7gn2KIm_"
      },
      "execution_count": null,
      "outputs": []
    },
    {
      "cell_type": "markdown",
      "source": [
        "## **What's the time?** ⌚⌚\n",
        "\n",
        "Create a class Time which takes two inputs: hours and minutes to instantiate.\n",
        "\n",
        "* Construct a method DisplayTime() which displays the time in AM/PM formats.\n",
        "\n",
        " * For example if the input is 14 hours and 45 mins, then this method will print \"The time is 2:45 PM\".\n",
        " * If the inputted hours exceeds 23 then print the message \"The input hours should be less than 24\" and if the inputted minutes exceeds 59 then print the message \"The input minutes should be less than 60.\"\n",
        " * Also if the input is 12 hours 30 minutes, then the displayed time would be 12:30 PM\n",
        "\n",
        "* Construct a method DisplayRatio() which should display the ratio of minutes to hours.\n",
        " * For example, (8 hours and 16 mins) should display 2. Use try, except block to account for ZeroDivisionError."
      ],
      "metadata": {
        "id": "a5yhjDXAMTv6"
      }
    },
    {
      "cell_type": "code",
      "source": [
        "# Write your code here\n",
        "\n",
        "class Time:\n",
        "  def __init__(self,hours,minutes):\n",
        "    self.hours = hours\n",
        "    self.minutes = minutes\n",
        "\n",
        "  def show_time(self):\n",
        "    if self.hours <0 or self.hours>23:\n",
        "      print('Hours should be less than 24')\n",
        "    elif self.minutes<0 or self.minutes > 59:\n",
        "      print('Minutes should be less than 60')\n",
        "    else:\n",
        "      meridian = 'AM' if self.hours <12 else 'PM'\n",
        "      display_hours = self.hours if self.hours <= 12 else self.hours - 12\n",
        "      print(f'The time is {display_hours}:{self.minutes}:{meridian}')\n",
        "\n",
        "  def display_ratio(self):\n",
        "    ratio = self.minutes/self.hours\n",
        "    print(f'The ratio of minutes to hour is {round(ratio,2)}')\n"
      ],
      "metadata": {
        "id": "_xHOnmYILyor"
      },
      "execution_count": null,
      "outputs": []
    },
    {
      "cell_type": "code",
      "source": [
        "time1 = Time(9, 45)\n",
        "time1.show_time()\n",
        "time1.display_ratio()"
      ],
      "metadata": {
        "colab": {
          "base_uri": "https://localhost:8080/"
        },
        "id": "7p2a46DeXIRL",
        "outputId": "cf207e00-93b9-422e-9ef4-0b2a7adeb970"
      },
      "execution_count": null,
      "outputs": [
        {
          "output_type": "stream",
          "name": "stdout",
          "text": [
            "The time is 9:45:AM\n",
            "The ratio of minutes to hour is 5.0\n"
          ]
        }
      ]
    }
  ]
}